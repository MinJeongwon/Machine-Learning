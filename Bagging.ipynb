{
 "cells": [
  {
   "cell_type": "markdown",
   "metadata": {},
   "source": [
    "# import libraries"
   ]
  },
  {
   "cell_type": "code",
   "execution_count": 1,
   "metadata": {},
   "outputs": [],
   "source": [
    "import os\n",
    "import pandas as pd\n",
    "import numpy as np\n",
    "from sklearn.model_selection import train_test_split"
   ]
  },
  {
   "cell_type": "code",
   "execution_count": 2,
   "metadata": {},
   "outputs": [
    {
     "data": {
      "text/plain": [
       "'/Users/jeongwonmin/Documents/lectures/Ensemble/code'"
      ]
     },
     "execution_count": 2,
     "metadata": {},
     "output_type": "execute_result"
    }
   ],
   "source": [
    "os.getcwd() #current working directory"
   ]
  },
  {
   "cell_type": "markdown",
   "metadata": {},
   "source": [
    "# data settings"
   ]
  },
  {
   "cell_type": "code",
   "execution_count": 3,
   "metadata": {},
   "outputs": [
    {
     "data": {
      "text/html": [
       "<div>\n",
       "<style scoped>\n",
       "    .dataframe tbody tr th:only-of-type {\n",
       "        vertical-align: middle;\n",
       "    }\n",
       "\n",
       "    .dataframe tbody tr th {\n",
       "        vertical-align: top;\n",
       "    }\n",
       "\n",
       "    .dataframe thead th {\n",
       "        text-align: right;\n",
       "    }\n",
       "</style>\n",
       "<table border=\"1\" class=\"dataframe\">\n",
       "  <thead>\n",
       "    <tr style=\"text-align: right;\">\n",
       "      <th></th>\n",
       "      <th>id</th>\n",
       "      <th>date</th>\n",
       "      <th>price</th>\n",
       "      <th>bedrooms</th>\n",
       "      <th>bathrooms</th>\n",
       "      <th>floors</th>\n",
       "      <th>waterfront</th>\n",
       "      <th>condition</th>\n",
       "      <th>grade</th>\n",
       "      <th>yr_built</th>\n",
       "      <th>yr_renovated</th>\n",
       "      <th>zipcode</th>\n",
       "      <th>lat</th>\n",
       "      <th>long</th>\n",
       "    </tr>\n",
       "  </thead>\n",
       "  <tbody>\n",
       "    <tr>\n",
       "      <th>0</th>\n",
       "      <td>7129300520</td>\n",
       "      <td>20141013T000000</td>\n",
       "      <td>221900.0</td>\n",
       "      <td>3</td>\n",
       "      <td>1.00</td>\n",
       "      <td>1.0</td>\n",
       "      <td>0</td>\n",
       "      <td>3</td>\n",
       "      <td>7</td>\n",
       "      <td>1955</td>\n",
       "      <td>0</td>\n",
       "      <td>98178</td>\n",
       "      <td>47.5112</td>\n",
       "      <td>-122.257</td>\n",
       "    </tr>\n",
       "    <tr>\n",
       "      <th>1</th>\n",
       "      <td>6414100192</td>\n",
       "      <td>20141209T000000</td>\n",
       "      <td>538000.0</td>\n",
       "      <td>3</td>\n",
       "      <td>2.25</td>\n",
       "      <td>2.0</td>\n",
       "      <td>0</td>\n",
       "      <td>3</td>\n",
       "      <td>7</td>\n",
       "      <td>1951</td>\n",
       "      <td>1991</td>\n",
       "      <td>98125</td>\n",
       "      <td>47.7210</td>\n",
       "      <td>-122.319</td>\n",
       "    </tr>\n",
       "    <tr>\n",
       "      <th>2</th>\n",
       "      <td>5631500400</td>\n",
       "      <td>20150225T000000</td>\n",
       "      <td>180000.0</td>\n",
       "      <td>2</td>\n",
       "      <td>1.00</td>\n",
       "      <td>1.0</td>\n",
       "      <td>0</td>\n",
       "      <td>3</td>\n",
       "      <td>6</td>\n",
       "      <td>1933</td>\n",
       "      <td>0</td>\n",
       "      <td>98028</td>\n",
       "      <td>47.7379</td>\n",
       "      <td>-122.233</td>\n",
       "    </tr>\n",
       "    <tr>\n",
       "      <th>3</th>\n",
       "      <td>2487200875</td>\n",
       "      <td>20141209T000000</td>\n",
       "      <td>604000.0</td>\n",
       "      <td>4</td>\n",
       "      <td>3.00</td>\n",
       "      <td>1.0</td>\n",
       "      <td>0</td>\n",
       "      <td>5</td>\n",
       "      <td>7</td>\n",
       "      <td>1965</td>\n",
       "      <td>0</td>\n",
       "      <td>98136</td>\n",
       "      <td>47.5208</td>\n",
       "      <td>-122.393</td>\n",
       "    </tr>\n",
       "    <tr>\n",
       "      <th>4</th>\n",
       "      <td>1954400510</td>\n",
       "      <td>20150218T000000</td>\n",
       "      <td>510000.0</td>\n",
       "      <td>3</td>\n",
       "      <td>2.00</td>\n",
       "      <td>1.0</td>\n",
       "      <td>0</td>\n",
       "      <td>3</td>\n",
       "      <td>8</td>\n",
       "      <td>1987</td>\n",
       "      <td>0</td>\n",
       "      <td>98074</td>\n",
       "      <td>47.6168</td>\n",
       "      <td>-122.045</td>\n",
       "    </tr>\n",
       "  </tbody>\n",
       "</table>\n",
       "</div>"
      ],
      "text/plain": [
       "           id             date     price  bedrooms  bathrooms  floors  \\\n",
       "0  7129300520  20141013T000000  221900.0         3       1.00     1.0   \n",
       "1  6414100192  20141209T000000  538000.0         3       2.25     2.0   \n",
       "2  5631500400  20150225T000000  180000.0         2       1.00     1.0   \n",
       "3  2487200875  20141209T000000  604000.0         4       3.00     1.0   \n",
       "4  1954400510  20150218T000000  510000.0         3       2.00     1.0   \n",
       "\n",
       "   waterfront  condition  grade  yr_built  yr_renovated  zipcode      lat  \\\n",
       "0           0          3      7      1955             0    98178  47.5112   \n",
       "1           0          3      7      1951          1991    98125  47.7210   \n",
       "2           0          3      6      1933             0    98028  47.7379   \n",
       "3           0          5      7      1965             0    98136  47.5208   \n",
       "4           0          3      8      1987             0    98074  47.6168   \n",
       "\n",
       "      long  \n",
       "0 -122.257  \n",
       "1 -122.319  \n",
       "2 -122.233  \n",
       "3 -122.393  \n",
       "4 -122.045  "
      ]
     },
     "execution_count": 3,
     "metadata": {},
     "output_type": "execute_result"
    }
   ],
   "source": [
    "data = pd.read_csv(\"./kc_house_data.csv\") #https://www.kaggle.com/shivachandel/kc-house-data\n",
    "data.head()"
   ]
  },
  {
   "cell_type": "code",
   "execution_count": 4,
   "metadata": {
    "scrolled": true
   },
   "outputs": [
    {
     "data": {
      "text/plain": [
       "'\\nid : Id\\ndate: Date house was sold(String)\\nprice: Price of the sold house\\nbedrooms: Numer of Bedrooms\\nbathrooms: Numer of bathrooms\\nwaterfront: Whether the house has a view a waterfront(1: yes, 0: not)\\ncondtion: Condition of the house(1-5)\\ngrade: Building construction and design(1-13)\\nyr_built: Built year\\nyr_renovated: Year when the house was renovated\\nzipcode: zipcode of the house\\nlat: Latitude coordinate\\nlong Longitude coordinate\\n'"
      ]
     },
     "execution_count": 4,
     "metadata": {},
     "output_type": "execute_result"
    }
   ],
   "source": [
    "'''\n",
    "id : Id\n",
    "date: Date house was sold(String)\n",
    "price: Price of the sold house\n",
    "bedrooms: Numer of Bedrooms\n",
    "bathrooms: Numer of bathrooms\n",
    "waterfront: Whether the house has a view a waterfront(1: yes, 0: not)\n",
    "condtion: Condition of the house(1-5)\n",
    "grade: Building construction and design(1-13)\n",
    "yr_built: Built year\n",
    "yr_renovated: Year when the house was renovated\n",
    "zipcode: zipcode of the house\n",
    "lat: Latitude coordinate\n",
    "long Longitude coordinate\n",
    "'''"
   ]
  },
  {
   "cell_type": "code",
   "execution_count": 5,
   "metadata": {},
   "outputs": [
    {
     "data": {
      "text/plain": [
       "(21613, 14)"
      ]
     },
     "execution_count": 5,
     "metadata": {},
     "output_type": "execute_result"
    }
   ],
   "source": [
    "data.shape"
   ]
  },
  {
   "cell_type": "code",
   "execution_count": 6,
   "metadata": {
    "scrolled": true
   },
   "outputs": [
    {
     "name": "stdout",
     "output_type": "stream",
     "text": [
      "# data : 21613 \n",
      "# variables: 14\n"
     ]
    }
   ],
   "source": [
    "nData = data.shape[0]\n",
    "nVar = data.shape[1]\n",
    "print('# data : %d' %nData, '\\n# variables: %d' %nVar )"
   ]
  },
  {
   "cell_type": "markdown",
   "metadata": {},
   "source": [
    "### drop columns"
   ]
  },
  {
   "cell_type": "code",
   "execution_count": 7,
   "metadata": {},
   "outputs": [
    {
     "data": {
      "text/html": [
       "<div>\n",
       "<style scoped>\n",
       "    .dataframe tbody tr th:only-of-type {\n",
       "        vertical-align: middle;\n",
       "    }\n",
       "\n",
       "    .dataframe tbody tr th {\n",
       "        vertical-align: top;\n",
       "    }\n",
       "\n",
       "    .dataframe thead th {\n",
       "        text-align: right;\n",
       "    }\n",
       "</style>\n",
       "<table border=\"1\" class=\"dataframe\">\n",
       "  <thead>\n",
       "    <tr style=\"text-align: right;\">\n",
       "      <th></th>\n",
       "      <th>price</th>\n",
       "      <th>bedrooms</th>\n",
       "      <th>bathrooms</th>\n",
       "      <th>floors</th>\n",
       "      <th>waterfront</th>\n",
       "      <th>condition</th>\n",
       "      <th>grade</th>\n",
       "      <th>yr_built</th>\n",
       "      <th>yr_renovated</th>\n",
       "    </tr>\n",
       "  </thead>\n",
       "  <tbody>\n",
       "    <tr>\n",
       "      <th>0</th>\n",
       "      <td>221900.0</td>\n",
       "      <td>3</td>\n",
       "      <td>1.00</td>\n",
       "      <td>1.0</td>\n",
       "      <td>0</td>\n",
       "      <td>3</td>\n",
       "      <td>7</td>\n",
       "      <td>1955</td>\n",
       "      <td>0</td>\n",
       "    </tr>\n",
       "    <tr>\n",
       "      <th>1</th>\n",
       "      <td>538000.0</td>\n",
       "      <td>3</td>\n",
       "      <td>2.25</td>\n",
       "      <td>2.0</td>\n",
       "      <td>0</td>\n",
       "      <td>3</td>\n",
       "      <td>7</td>\n",
       "      <td>1951</td>\n",
       "      <td>1991</td>\n",
       "    </tr>\n",
       "    <tr>\n",
       "      <th>2</th>\n",
       "      <td>180000.0</td>\n",
       "      <td>2</td>\n",
       "      <td>1.00</td>\n",
       "      <td>1.0</td>\n",
       "      <td>0</td>\n",
       "      <td>3</td>\n",
       "      <td>6</td>\n",
       "      <td>1933</td>\n",
       "      <td>0</td>\n",
       "    </tr>\n",
       "    <tr>\n",
       "      <th>3</th>\n",
       "      <td>604000.0</td>\n",
       "      <td>4</td>\n",
       "      <td>3.00</td>\n",
       "      <td>1.0</td>\n",
       "      <td>0</td>\n",
       "      <td>5</td>\n",
       "      <td>7</td>\n",
       "      <td>1965</td>\n",
       "      <td>0</td>\n",
       "    </tr>\n",
       "    <tr>\n",
       "      <th>4</th>\n",
       "      <td>510000.0</td>\n",
       "      <td>3</td>\n",
       "      <td>2.00</td>\n",
       "      <td>1.0</td>\n",
       "      <td>0</td>\n",
       "      <td>3</td>\n",
       "      <td>8</td>\n",
       "      <td>1987</td>\n",
       "      <td>0</td>\n",
       "    </tr>\n",
       "    <tr>\n",
       "      <th>...</th>\n",
       "      <td>...</td>\n",
       "      <td>...</td>\n",
       "      <td>...</td>\n",
       "      <td>...</td>\n",
       "      <td>...</td>\n",
       "      <td>...</td>\n",
       "      <td>...</td>\n",
       "      <td>...</td>\n",
       "      <td>...</td>\n",
       "    </tr>\n",
       "    <tr>\n",
       "      <th>21608</th>\n",
       "      <td>360000.0</td>\n",
       "      <td>3</td>\n",
       "      <td>2.50</td>\n",
       "      <td>3.0</td>\n",
       "      <td>0</td>\n",
       "      <td>3</td>\n",
       "      <td>8</td>\n",
       "      <td>2009</td>\n",
       "      <td>0</td>\n",
       "    </tr>\n",
       "    <tr>\n",
       "      <th>21609</th>\n",
       "      <td>400000.0</td>\n",
       "      <td>4</td>\n",
       "      <td>2.50</td>\n",
       "      <td>2.0</td>\n",
       "      <td>0</td>\n",
       "      <td>3</td>\n",
       "      <td>8</td>\n",
       "      <td>2014</td>\n",
       "      <td>0</td>\n",
       "    </tr>\n",
       "    <tr>\n",
       "      <th>21610</th>\n",
       "      <td>402101.0</td>\n",
       "      <td>2</td>\n",
       "      <td>0.75</td>\n",
       "      <td>2.0</td>\n",
       "      <td>0</td>\n",
       "      <td>3</td>\n",
       "      <td>7</td>\n",
       "      <td>2009</td>\n",
       "      <td>0</td>\n",
       "    </tr>\n",
       "    <tr>\n",
       "      <th>21611</th>\n",
       "      <td>400000.0</td>\n",
       "      <td>3</td>\n",
       "      <td>2.50</td>\n",
       "      <td>2.0</td>\n",
       "      <td>0</td>\n",
       "      <td>3</td>\n",
       "      <td>8</td>\n",
       "      <td>2004</td>\n",
       "      <td>0</td>\n",
       "    </tr>\n",
       "    <tr>\n",
       "      <th>21612</th>\n",
       "      <td>325000.0</td>\n",
       "      <td>2</td>\n",
       "      <td>0.75</td>\n",
       "      <td>2.0</td>\n",
       "      <td>0</td>\n",
       "      <td>3</td>\n",
       "      <td>7</td>\n",
       "      <td>2008</td>\n",
       "      <td>0</td>\n",
       "    </tr>\n",
       "  </tbody>\n",
       "</table>\n",
       "<p>21613 rows × 9 columns</p>\n",
       "</div>"
      ],
      "text/plain": [
       "          price  bedrooms  bathrooms  floors  waterfront  condition  grade  \\\n",
       "0      221900.0         3       1.00     1.0           0          3      7   \n",
       "1      538000.0         3       2.25     2.0           0          3      7   \n",
       "2      180000.0         2       1.00     1.0           0          3      6   \n",
       "3      604000.0         4       3.00     1.0           0          5      7   \n",
       "4      510000.0         3       2.00     1.0           0          3      8   \n",
       "...         ...       ...        ...     ...         ...        ...    ...   \n",
       "21608  360000.0         3       2.50     3.0           0          3      8   \n",
       "21609  400000.0         4       2.50     2.0           0          3      8   \n",
       "21610  402101.0         2       0.75     2.0           0          3      7   \n",
       "21611  400000.0         3       2.50     2.0           0          3      8   \n",
       "21612  325000.0         2       0.75     2.0           0          3      7   \n",
       "\n",
       "       yr_built  yr_renovated  \n",
       "0          1955             0  \n",
       "1          1951          1991  \n",
       "2          1933             0  \n",
       "3          1965             0  \n",
       "4          1987             0  \n",
       "...         ...           ...  \n",
       "21608      2009             0  \n",
       "21609      2014             0  \n",
       "21610      2009             0  \n",
       "21611      2004             0  \n",
       "21612      2008             0  \n",
       "\n",
       "[21613 rows x 9 columns]"
      ]
     },
     "execution_count": 7,
     "metadata": {},
     "output_type": "execute_result"
    }
   ],
   "source": [
    "data.drop(['id', 'date', 'zipcode', 'lat', 'long'], axis = 1)"
   ]
  },
  {
   "cell_type": "code",
   "execution_count": 8,
   "metadata": {},
   "outputs": [],
   "source": [
    "data = data.drop(['id', 'date', 'zipcode', 'lat', 'long'], axis = 1)"
   ]
  },
  {
   "cell_type": "markdown",
   "metadata": {},
   "source": [
    "### column info "
   ]
  },
  {
   "cell_type": "code",
   "execution_count": 9,
   "metadata": {},
   "outputs": [
    {
     "name": "stdout",
     "output_type": "stream",
     "text": [
      "<class 'pandas.core.frame.DataFrame'>\n",
      "RangeIndex: 21613 entries, 0 to 21612\n",
      "Data columns (total 9 columns):\n",
      " #   Column        Non-Null Count  Dtype  \n",
      "---  ------        --------------  -----  \n",
      " 0   price         21613 non-null  float64\n",
      " 1   bedrooms      21613 non-null  int64  \n",
      " 2   bathrooms     21613 non-null  float64\n",
      " 3   floors        21613 non-null  float64\n",
      " 4   waterfront    21613 non-null  int64  \n",
      " 5   condition     21613 non-null  int64  \n",
      " 6   grade         21613 non-null  int64  \n",
      " 7   yr_built      21613 non-null  int64  \n",
      " 8   yr_renovated  21613 non-null  int64  \n",
      "dtypes: float64(3), int64(6)\n",
      "memory usage: 1.5 MB\n"
     ]
    }
   ],
   "source": [
    "data.info()"
   ]
  },
  {
   "cell_type": "markdown",
   "metadata": {},
   "source": [
    "### separate into features and label"
   ]
  },
  {
   "cell_type": "code",
   "execution_count": 10,
   "metadata": {},
   "outputs": [],
   "source": [
    "features = data.columns.difference(['price'])\n",
    "X = data[features]\n",
    "y = data[['price']]"
   ]
  },
  {
   "cell_type": "code",
   "execution_count": 11,
   "metadata": {},
   "outputs": [
    {
     "data": {
      "text/html": [
       "<div>\n",
       "<style scoped>\n",
       "    .dataframe tbody tr th:only-of-type {\n",
       "        vertical-align: middle;\n",
       "    }\n",
       "\n",
       "    .dataframe tbody tr th {\n",
       "        vertical-align: top;\n",
       "    }\n",
       "\n",
       "    .dataframe thead th {\n",
       "        text-align: right;\n",
       "    }\n",
       "</style>\n",
       "<table border=\"1\" class=\"dataframe\">\n",
       "  <thead>\n",
       "    <tr style=\"text-align: right;\">\n",
       "      <th></th>\n",
       "      <th>bathrooms</th>\n",
       "      <th>bedrooms</th>\n",
       "      <th>condition</th>\n",
       "      <th>floors</th>\n",
       "      <th>grade</th>\n",
       "      <th>waterfront</th>\n",
       "      <th>yr_built</th>\n",
       "      <th>yr_renovated</th>\n",
       "    </tr>\n",
       "  </thead>\n",
       "  <tbody>\n",
       "    <tr>\n",
       "      <th>0</th>\n",
       "      <td>1.00</td>\n",
       "      <td>3</td>\n",
       "      <td>3</td>\n",
       "      <td>1.0</td>\n",
       "      <td>7</td>\n",
       "      <td>0</td>\n",
       "      <td>1955</td>\n",
       "      <td>0</td>\n",
       "    </tr>\n",
       "    <tr>\n",
       "      <th>1</th>\n",
       "      <td>2.25</td>\n",
       "      <td>3</td>\n",
       "      <td>3</td>\n",
       "      <td>2.0</td>\n",
       "      <td>7</td>\n",
       "      <td>0</td>\n",
       "      <td>1951</td>\n",
       "      <td>1991</td>\n",
       "    </tr>\n",
       "    <tr>\n",
       "      <th>2</th>\n",
       "      <td>1.00</td>\n",
       "      <td>2</td>\n",
       "      <td>3</td>\n",
       "      <td>1.0</td>\n",
       "      <td>6</td>\n",
       "      <td>0</td>\n",
       "      <td>1933</td>\n",
       "      <td>0</td>\n",
       "    </tr>\n",
       "    <tr>\n",
       "      <th>3</th>\n",
       "      <td>3.00</td>\n",
       "      <td>4</td>\n",
       "      <td>5</td>\n",
       "      <td>1.0</td>\n",
       "      <td>7</td>\n",
       "      <td>0</td>\n",
       "      <td>1965</td>\n",
       "      <td>0</td>\n",
       "    </tr>\n",
       "    <tr>\n",
       "      <th>4</th>\n",
       "      <td>2.00</td>\n",
       "      <td>3</td>\n",
       "      <td>3</td>\n",
       "      <td>1.0</td>\n",
       "      <td>8</td>\n",
       "      <td>0</td>\n",
       "      <td>1987</td>\n",
       "      <td>0</td>\n",
       "    </tr>\n",
       "    <tr>\n",
       "      <th>...</th>\n",
       "      <td>...</td>\n",
       "      <td>...</td>\n",
       "      <td>...</td>\n",
       "      <td>...</td>\n",
       "      <td>...</td>\n",
       "      <td>...</td>\n",
       "      <td>...</td>\n",
       "      <td>...</td>\n",
       "    </tr>\n",
       "    <tr>\n",
       "      <th>21608</th>\n",
       "      <td>2.50</td>\n",
       "      <td>3</td>\n",
       "      <td>3</td>\n",
       "      <td>3.0</td>\n",
       "      <td>8</td>\n",
       "      <td>0</td>\n",
       "      <td>2009</td>\n",
       "      <td>0</td>\n",
       "    </tr>\n",
       "    <tr>\n",
       "      <th>21609</th>\n",
       "      <td>2.50</td>\n",
       "      <td>4</td>\n",
       "      <td>3</td>\n",
       "      <td>2.0</td>\n",
       "      <td>8</td>\n",
       "      <td>0</td>\n",
       "      <td>2014</td>\n",
       "      <td>0</td>\n",
       "    </tr>\n",
       "    <tr>\n",
       "      <th>21610</th>\n",
       "      <td>0.75</td>\n",
       "      <td>2</td>\n",
       "      <td>3</td>\n",
       "      <td>2.0</td>\n",
       "      <td>7</td>\n",
       "      <td>0</td>\n",
       "      <td>2009</td>\n",
       "      <td>0</td>\n",
       "    </tr>\n",
       "    <tr>\n",
       "      <th>21611</th>\n",
       "      <td>2.50</td>\n",
       "      <td>3</td>\n",
       "      <td>3</td>\n",
       "      <td>2.0</td>\n",
       "      <td>8</td>\n",
       "      <td>0</td>\n",
       "      <td>2004</td>\n",
       "      <td>0</td>\n",
       "    </tr>\n",
       "    <tr>\n",
       "      <th>21612</th>\n",
       "      <td>0.75</td>\n",
       "      <td>2</td>\n",
       "      <td>3</td>\n",
       "      <td>2.0</td>\n",
       "      <td>7</td>\n",
       "      <td>0</td>\n",
       "      <td>2008</td>\n",
       "      <td>0</td>\n",
       "    </tr>\n",
       "  </tbody>\n",
       "</table>\n",
       "<p>21613 rows × 8 columns</p>\n",
       "</div>"
      ],
      "text/plain": [
       "       bathrooms  bedrooms  condition  floors  grade  waterfront  yr_built  \\\n",
       "0           1.00         3          3     1.0      7           0      1955   \n",
       "1           2.25         3          3     2.0      7           0      1951   \n",
       "2           1.00         2          3     1.0      6           0      1933   \n",
       "3           3.00         4          5     1.0      7           0      1965   \n",
       "4           2.00         3          3     1.0      8           0      1987   \n",
       "...          ...       ...        ...     ...    ...         ...       ...   \n",
       "21608       2.50         3          3     3.0      8           0      2009   \n",
       "21609       2.50         4          3     2.0      8           0      2014   \n",
       "21610       0.75         2          3     2.0      7           0      2009   \n",
       "21611       2.50         3          3     2.0      8           0      2004   \n",
       "21612       0.75         2          3     2.0      7           0      2008   \n",
       "\n",
       "       yr_renovated  \n",
       "0                 0  \n",
       "1              1991  \n",
       "2                 0  \n",
       "3                 0  \n",
       "4                 0  \n",
       "...             ...  \n",
       "21608             0  \n",
       "21609             0  \n",
       "21610             0  \n",
       "21611             0  \n",
       "21612             0  \n",
       "\n",
       "[21613 rows x 8 columns]"
      ]
     },
     "execution_count": 11,
     "metadata": {},
     "output_type": "execute_result"
    }
   ],
   "source": [
    "X"
   ]
  },
  {
   "cell_type": "code",
   "execution_count": 12,
   "metadata": {},
   "outputs": [
    {
     "data": {
      "text/html": [
       "<div>\n",
       "<style scoped>\n",
       "    .dataframe tbody tr th:only-of-type {\n",
       "        vertical-align: middle;\n",
       "    }\n",
       "\n",
       "    .dataframe tbody tr th {\n",
       "        vertical-align: top;\n",
       "    }\n",
       "\n",
       "    .dataframe thead th {\n",
       "        text-align: right;\n",
       "    }\n",
       "</style>\n",
       "<table border=\"1\" class=\"dataframe\">\n",
       "  <thead>\n",
       "    <tr style=\"text-align: right;\">\n",
       "      <th></th>\n",
       "      <th>price</th>\n",
       "    </tr>\n",
       "  </thead>\n",
       "  <tbody>\n",
       "    <tr>\n",
       "      <th>0</th>\n",
       "      <td>221900.0</td>\n",
       "    </tr>\n",
       "    <tr>\n",
       "      <th>1</th>\n",
       "      <td>538000.0</td>\n",
       "    </tr>\n",
       "    <tr>\n",
       "      <th>2</th>\n",
       "      <td>180000.0</td>\n",
       "    </tr>\n",
       "    <tr>\n",
       "      <th>3</th>\n",
       "      <td>604000.0</td>\n",
       "    </tr>\n",
       "    <tr>\n",
       "      <th>4</th>\n",
       "      <td>510000.0</td>\n",
       "    </tr>\n",
       "    <tr>\n",
       "      <th>...</th>\n",
       "      <td>...</td>\n",
       "    </tr>\n",
       "    <tr>\n",
       "      <th>21608</th>\n",
       "      <td>360000.0</td>\n",
       "    </tr>\n",
       "    <tr>\n",
       "      <th>21609</th>\n",
       "      <td>400000.0</td>\n",
       "    </tr>\n",
       "    <tr>\n",
       "      <th>21610</th>\n",
       "      <td>402101.0</td>\n",
       "    </tr>\n",
       "    <tr>\n",
       "      <th>21611</th>\n",
       "      <td>400000.0</td>\n",
       "    </tr>\n",
       "    <tr>\n",
       "      <th>21612</th>\n",
       "      <td>325000.0</td>\n",
       "    </tr>\n",
       "  </tbody>\n",
       "</table>\n",
       "<p>21613 rows × 1 columns</p>\n",
       "</div>"
      ],
      "text/plain": [
       "          price\n",
       "0      221900.0\n",
       "1      538000.0\n",
       "2      180000.0\n",
       "3      604000.0\n",
       "4      510000.0\n",
       "...         ...\n",
       "21608  360000.0\n",
       "21609  400000.0\n",
       "21610  402101.0\n",
       "21611  400000.0\n",
       "21612  325000.0\n",
       "\n",
       "[21613 rows x 1 columns]"
      ]
     },
     "execution_count": 12,
     "metadata": {},
     "output_type": "execute_result"
    }
   ],
   "source": [
    "y"
   ]
  },
  {
   "cell_type": "markdown",
   "metadata": {},
   "source": [
    "### split data into train & test data (7 : 3)"
   ]
  },
  {
   "cell_type": "code",
   "execution_count": 13,
   "metadata": {},
   "outputs": [],
   "source": [
    "train_x, test_x, train_y, test_y = train_test_split(X, y, test_size = 0.3, random_state = 42) "
   ]
  },
  {
   "cell_type": "code",
   "execution_count": 14,
   "metadata": {},
   "outputs": [
    {
     "name": "stdout",
     "output_type": "stream",
     "text": [
      "(15129, 8) (6484, 8) (15129, 1) (6484, 1)\n"
     ]
    }
   ],
   "source": [
    "print(train_x.shape, test_x.shape, train_y.shape, test_y.shape)"
   ]
  },
  {
   "cell_type": "markdown",
   "metadata": {},
   "source": [
    "   "
   ]
  },
  {
   "cell_type": "markdown",
   "metadata": {},
   "source": [
    "   "
   ]
  },
  {
   "cell_type": "markdown",
   "metadata": {},
   "source": [
    "  "
   ]
  },
  {
   "cell_type": "markdown",
   "metadata": {},
   "source": [
    "# 1. regression analysis"
   ]
  },
  {
   "cell_type": "markdown",
   "metadata": {},
   "source": [
    "# import libraries"
   ]
  },
  {
   "cell_type": "code",
   "execution_count": 15,
   "metadata": {},
   "outputs": [],
   "source": [
    "import statsmodels.api as sm\n",
    "from sklearn.metrics import mean_squared_error, r2_score\n",
    "from math import sqrt"
   ]
  },
  {
   "cell_type": "markdown",
   "metadata": {},
   "source": [
    "# train"
   ]
  },
  {
   "cell_type": "code",
   "execution_count": 16,
   "metadata": {},
   "outputs": [
    {
     "data": {
      "text/html": [
       "<table class=\"simpletable\">\n",
       "<caption>OLS Regression Results</caption>\n",
       "<tr>\n",
       "  <th>Dep. Variable:</th>          <td>price</td>      <th>  R-squared:         </th>  <td>   0.595</td>  \n",
       "</tr>\n",
       "<tr>\n",
       "  <th>Model:</th>                   <td>OLS</td>       <th>  Adj. R-squared:    </th>  <td>   0.595</td>  \n",
       "</tr>\n",
       "<tr>\n",
       "  <th>Method:</th>             <td>Least Squares</td>  <th>  F-statistic:       </th>  <td>   2776.</td>  \n",
       "</tr>\n",
       "<tr>\n",
       "  <th>Date:</th>             <td>Tue, 02 Jun 2020</td> <th>  Prob (F-statistic):</th>   <td>  0.00</td>   \n",
       "</tr>\n",
       "<tr>\n",
       "  <th>Time:</th>                 <td>23:59:07</td>     <th>  Log-Likelihood:    </th> <td>-2.0826e+05</td>\n",
       "</tr>\n",
       "<tr>\n",
       "  <th>No. Observations:</th>      <td> 15129</td>      <th>  AIC:               </th>  <td>4.165e+05</td> \n",
       "</tr>\n",
       "<tr>\n",
       "  <th>Df Residuals:</th>          <td> 15120</td>      <th>  BIC:               </th>  <td>4.166e+05</td> \n",
       "</tr>\n",
       "<tr>\n",
       "  <th>Df Model:</th>              <td>     8</td>      <th>                     </th>      <td> </td>     \n",
       "</tr>\n",
       "<tr>\n",
       "  <th>Covariance Type:</th>      <td>nonrobust</td>    <th>                     </th>      <td> </td>     \n",
       "</tr>\n",
       "</table>\n",
       "<table class=\"simpletable\">\n",
       "<tr>\n",
       "        <td></td>          <th>coef</th>     <th>std err</th>      <th>t</th>      <th>P>|t|</th>  <th>[0.025</th>    <th>0.975]</th>  \n",
       "</tr>\n",
       "<tr>\n",
       "  <th>const</th>        <td> 7.186e+06</td> <td> 1.73e+05</td> <td>   41.548</td> <td> 0.000</td> <td> 6.85e+06</td> <td> 7.52e+06</td>\n",
       "</tr>\n",
       "<tr>\n",
       "  <th>bathrooms</th>    <td> 1.303e+05</td> <td> 3960.833</td> <td>   32.889</td> <td> 0.000</td> <td> 1.23e+05</td> <td> 1.38e+05</td>\n",
       "</tr>\n",
       "<tr>\n",
       "  <th>bedrooms</th>     <td>-2224.7910</td> <td> 2382.356</td> <td>   -0.934</td> <td> 0.350</td> <td>-6894.497</td> <td> 2444.915</td>\n",
       "</tr>\n",
       "<tr>\n",
       "  <th>condition</th>    <td> 1.641e+04</td> <td> 3169.013</td> <td>    5.178</td> <td> 0.000</td> <td> 1.02e+04</td> <td> 2.26e+04</td>\n",
       "</tr>\n",
       "<tr>\n",
       "  <th>floors</th>       <td> 1946.3052</td> <td> 4336.838</td> <td>    0.449</td> <td> 0.654</td> <td>-6554.422</td> <td> 1.04e+04</td>\n",
       "</tr>\n",
       "<tr>\n",
       "  <th>grade</th>        <td> 1.956e+05</td> <td> 2199.540</td> <td>   88.924</td> <td> 0.000</td> <td> 1.91e+05</td> <td>    2e+05</td>\n",
       "</tr>\n",
       "<tr>\n",
       "  <th>waterfront</th>   <td> 7.555e+05</td> <td> 2.26e+04</td> <td>   33.479</td> <td> 0.000</td> <td> 7.11e+05</td> <td>    8e+05</td>\n",
       "</tr>\n",
       "<tr>\n",
       "  <th>yr_built</th>     <td>-4300.7865</td> <td>   88.073</td> <td>  -48.832</td> <td> 0.000</td> <td>-4473.420</td> <td>-4128.153</td>\n",
       "</tr>\n",
       "<tr>\n",
       "  <th>yr_renovated</th> <td>   12.7325</td> <td>    5.043</td> <td>    2.525</td> <td> 0.012</td> <td>    2.847</td> <td>   22.618</td>\n",
       "</tr>\n",
       "</table>\n",
       "<table class=\"simpletable\">\n",
       "<tr>\n",
       "  <th>Omnibus:</th>       <td>13447.374</td> <th>  Durbin-Watson:     </th>  <td>   1.994</td>  \n",
       "</tr>\n",
       "<tr>\n",
       "  <th>Prob(Omnibus):</th>  <td> 0.000</td>   <th>  Jarque-Bera (JB):  </th> <td>1684794.827</td>\n",
       "</tr>\n",
       "<tr>\n",
       "  <th>Skew:</th>           <td> 3.763</td>   <th>  Prob(JB):          </th>  <td>    0.00</td>  \n",
       "</tr>\n",
       "<tr>\n",
       "  <th>Kurtosis:</th>       <td>54.147</td>   <th>  Cond. No.          </th>  <td>1.82e+05</td>  \n",
       "</tr>\n",
       "</table><br/><br/>Warnings:<br/>[1] Standard Errors assume that the covariance matrix of the errors is correctly specified.<br/>[2] The condition number is large, 1.82e+05. This might indicate that there are<br/>strong multicollinearity or other numerical problems."
      ],
      "text/plain": [
       "<class 'statsmodels.iolib.summary.Summary'>\n",
       "\"\"\"\n",
       "                            OLS Regression Results                            \n",
       "==============================================================================\n",
       "Dep. Variable:                  price   R-squared:                       0.595\n",
       "Model:                            OLS   Adj. R-squared:                  0.595\n",
       "Method:                 Least Squares   F-statistic:                     2776.\n",
       "Date:                Tue, 02 Jun 2020   Prob (F-statistic):               0.00\n",
       "Time:                        23:59:07   Log-Likelihood:            -2.0826e+05\n",
       "No. Observations:               15129   AIC:                         4.165e+05\n",
       "Df Residuals:                   15120   BIC:                         4.166e+05\n",
       "Df Model:                           8                                         \n",
       "Covariance Type:            nonrobust                                         \n",
       "================================================================================\n",
       "                   coef    std err          t      P>|t|      [0.025      0.975]\n",
       "--------------------------------------------------------------------------------\n",
       "const         7.186e+06   1.73e+05     41.548      0.000    6.85e+06    7.52e+06\n",
       "bathrooms     1.303e+05   3960.833     32.889      0.000    1.23e+05    1.38e+05\n",
       "bedrooms     -2224.7910   2382.356     -0.934      0.350   -6894.497    2444.915\n",
       "condition     1.641e+04   3169.013      5.178      0.000    1.02e+04    2.26e+04\n",
       "floors        1946.3052   4336.838      0.449      0.654   -6554.422    1.04e+04\n",
       "grade         1.956e+05   2199.540     88.924      0.000    1.91e+05       2e+05\n",
       "waterfront    7.555e+05   2.26e+04     33.479      0.000    7.11e+05       8e+05\n",
       "yr_built     -4300.7865     88.073    -48.832      0.000   -4473.420   -4128.153\n",
       "yr_renovated    12.7325      5.043      2.525      0.012       2.847      22.618\n",
       "==============================================================================\n",
       "Omnibus:                    13447.374   Durbin-Watson:                   1.994\n",
       "Prob(Omnibus):                  0.000   Jarque-Bera (JB):          1684794.827\n",
       "Skew:                           3.763   Prob(JB):                         0.00\n",
       "Kurtosis:                      54.147   Cond. No.                     1.82e+05\n",
       "==============================================================================\n",
       "\n",
       "Warnings:\n",
       "[1] Standard Errors assume that the covariance matrix of the errors is correctly specified.\n",
       "[2] The condition number is large, 1.82e+05. This might indicate that there are\n",
       "strong multicollinearity or other numerical problems.\n",
       "\"\"\""
      ]
     },
     "execution_count": 16,
     "metadata": {},
     "output_type": "execute_result"
    }
   ],
   "source": [
    "sm_train_x = sm.add_constant(train_x, has_constant = 'add') #add bias\n",
    "sm_model = sm.OLS(train_y, sm_train_x) #model\n",
    "fitted_sm_model = sm_model.fit() #train\n",
    "fitted_sm_model.summary() #summary"
   ]
  },
  {
   "cell_type": "markdown",
   "metadata": {},
   "source": [
    "# test"
   ]
  },
  {
   "cell_type": "code",
   "execution_count": 17,
   "metadata": {},
   "outputs": [
    {
     "name": "stdout",
     "output_type": "stream",
     "text": [
      "regression RMSE: 239804.29670858168\n",
      "const           7.185671e+06\n",
      "bathrooms       1.302689e+05\n",
      "bedrooms       -2.224791e+03\n",
      "condition       1.641020e+04\n",
      "floors          1.946305e+03\n",
      "grade           1.955909e+05\n",
      "waterfront      7.555423e+05\n",
      "yr_built       -4.300787e+03\n",
      "yr_renovated    1.273246e+01\n",
      "dtype: float64\n"
     ]
    }
   ],
   "source": [
    "sm_test_x = sm.add_constant(test_x, has_constant = 'add') #add bias\n",
    "sm_model_predict = fitted_sm_model.predict(sm_test_x) #predict\n",
    "print(\"regression RMSE: {}\".format(sqrt(mean_squared_error(sm_model_predict, test_y)))) #RMSE\n",
    "print(fitted_sm_model.params) #parameters"
   ]
  },
  {
   "cell_type": "markdown",
   "metadata": {},
   "source": [
    "  "
   ]
  },
  {
   "cell_type": "markdown",
   "metadata": {},
   "source": [
    "  "
   ]
  },
  {
   "cell_type": "markdown",
   "metadata": {},
   "source": [
    "   "
   ]
  },
  {
   "cell_type": "markdown",
   "metadata": {},
   "source": [
    "# 2. Bagging(for loop ver.)"
   ]
  },
  {
   "cell_type": "markdown",
   "metadata": {},
   "source": [
    "# import libraries"
   ]
  },
  {
   "cell_type": "code",
   "execution_count": 18,
   "metadata": {},
   "outputs": [],
   "source": [
    "import random"
   ]
  },
  {
   "cell_type": "markdown",
   "metadata": {},
   "source": [
    "# data settings(sampling)"
   ]
  },
  {
   "cell_type": "code",
   "execution_count": 19,
   "metadata": {},
   "outputs": [
    {
     "name": "stdout",
     "output_type": "stream",
     "text": [
      "sampling 0 : 9564\n",
      "sampling 1 : 9633\n",
      "sampling 2 : 9515\n",
      "sampling 3 : 9654\n",
      "sampling 4 : 9513\n",
      "sampling 5 : 9603\n",
      "sampling 6 : 9602\n",
      "sampling 7 : 9594\n",
      "sampling 8 : 9576\n",
      "sampling 9 : 9570\n"
     ]
    }
   ],
   "source": [
    "bagging_predict_result = []\n",
    "\n",
    "for _ in range(10):\n",
    "    data_index = [data_index for data_index in range(train_x.shape[0])] #put train data index into list\n",
    "    random_data_index = np.random.choice(data_index, train_x.shape[0]) #data sampling(data : data_index, \n",
    "                                                                       #sampling size : # train_x)\n",
    "    print('sampling', _ , ':', len(set(random_data_index))) #sampling with replacement\n",
    "    \n",
    "    sm_train_x = train_x.iloc[random_data_index,] #features(row) corresponding to random index\n",
    "    sm_train_y = train_y.iloc[random_data_index,] #label corresponding to random index\n",
    "    \n",
    "    sm_train_x = sm.add_constant(sm_train_x, has_constant = 'add') #add bias\n",
    "    sm_model = sm.OLS(sm_train_y, sm_train_x) #model\n",
    "    fitted_sm_model = sm_model.fit() #train\n",
    "    \n",
    "    sm_test_x = sm.add_constant(test_x, has_constant = 'add') #add bias\n",
    "    sm_model_predict = fitted_sm_model.predict(sm_test_x) #predict\n",
    "    bagging_predict_result.append(sm_model_predict) #save the predictions"
   ]
  },
  {
   "cell_type": "code",
   "execution_count": 20,
   "metadata": {
    "scrolled": true
   },
   "outputs": [
    {
     "data": {
      "text/plain": [
       "10"
      ]
     },
     "execution_count": 20,
     "metadata": {},
     "output_type": "execute_result"
    }
   ],
   "source": [
    "len(bagging_predict_result) #10 loops, thus 10 elements in bagging_predict_result"
   ]
  },
  {
   "cell_type": "code",
   "execution_count": 21,
   "metadata": {},
   "outputs": [
    {
     "data": {
      "text/html": [
       "<div>\n",
       "<style scoped>\n",
       "    .dataframe tbody tr th:only-of-type {\n",
       "        vertical-align: middle;\n",
       "    }\n",
       "\n",
       "    .dataframe tbody tr th {\n",
       "        vertical-align: top;\n",
       "    }\n",
       "\n",
       "    .dataframe thead th {\n",
       "        text-align: right;\n",
       "    }\n",
       "</style>\n",
       "<table border=\"1\" class=\"dataframe\">\n",
       "  <thead>\n",
       "    <tr style=\"text-align: right;\">\n",
       "      <th></th>\n",
       "      <th>bagging 1</th>\n",
       "      <th>bagging 2</th>\n",
       "      <th>bagging 3</th>\n",
       "      <th>bagging 4</th>\n",
       "      <th>bagging 5</th>\n",
       "      <th>bagging 6</th>\n",
       "      <th>bagging 7</th>\n",
       "      <th>bagging 8</th>\n",
       "      <th>bagging 9</th>\n",
       "      <th>bagging 10</th>\n",
       "    </tr>\n",
       "  </thead>\n",
       "  <tbody>\n",
       "    <tr>\n",
       "      <th>735</th>\n",
       "      <td>5.757589e+05</td>\n",
       "      <td>5.604569e+05</td>\n",
       "      <td>5.644602e+05</td>\n",
       "      <td>5.594797e+05</td>\n",
       "      <td>5.668120e+05</td>\n",
       "      <td>5.626631e+05</td>\n",
       "      <td>5.580610e+05</td>\n",
       "      <td>5.680743e+05</td>\n",
       "      <td>5.611139e+05</td>\n",
       "      <td>5.615710e+05</td>\n",
       "    </tr>\n",
       "    <tr>\n",
       "      <th>2830</th>\n",
       "      <td>7.144655e+05</td>\n",
       "      <td>7.177401e+05</td>\n",
       "      <td>7.205267e+05</td>\n",
       "      <td>7.073309e+05</td>\n",
       "      <td>7.064351e+05</td>\n",
       "      <td>7.225747e+05</td>\n",
       "      <td>7.264208e+05</td>\n",
       "      <td>7.136078e+05</td>\n",
       "      <td>7.077751e+05</td>\n",
       "      <td>6.918331e+05</td>\n",
       "    </tr>\n",
       "    <tr>\n",
       "      <th>4106</th>\n",
       "      <td>1.134898e+06</td>\n",
       "      <td>1.107230e+06</td>\n",
       "      <td>1.110765e+06</td>\n",
       "      <td>1.128291e+06</td>\n",
       "      <td>1.124268e+06</td>\n",
       "      <td>1.136471e+06</td>\n",
       "      <td>1.111281e+06</td>\n",
       "      <td>1.127957e+06</td>\n",
       "      <td>1.119357e+06</td>\n",
       "      <td>1.115053e+06</td>\n",
       "    </tr>\n",
       "    <tr>\n",
       "      <th>16218</th>\n",
       "      <td>1.473265e+06</td>\n",
       "      <td>1.471582e+06</td>\n",
       "      <td>1.472080e+06</td>\n",
       "      <td>1.484090e+06</td>\n",
       "      <td>1.468820e+06</td>\n",
       "      <td>1.517463e+06</td>\n",
       "      <td>1.486564e+06</td>\n",
       "      <td>1.487337e+06</td>\n",
       "      <td>1.483759e+06</td>\n",
       "      <td>1.461819e+06</td>\n",
       "    </tr>\n",
       "    <tr>\n",
       "      <th>19964</th>\n",
       "      <td>7.058546e+05</td>\n",
       "      <td>6.962142e+05</td>\n",
       "      <td>6.954051e+05</td>\n",
       "      <td>6.990239e+05</td>\n",
       "      <td>7.002996e+05</td>\n",
       "      <td>7.049770e+05</td>\n",
       "      <td>6.982701e+05</td>\n",
       "      <td>7.026468e+05</td>\n",
       "      <td>7.007379e+05</td>\n",
       "      <td>6.990617e+05</td>\n",
       "    </tr>\n",
       "    <tr>\n",
       "      <th>...</th>\n",
       "      <td>...</td>\n",
       "      <td>...</td>\n",
       "      <td>...</td>\n",
       "      <td>...</td>\n",
       "      <td>...</td>\n",
       "      <td>...</td>\n",
       "      <td>...</td>\n",
       "      <td>...</td>\n",
       "      <td>...</td>\n",
       "      <td>...</td>\n",
       "    </tr>\n",
       "    <tr>\n",
       "      <th>12606</th>\n",
       "      <td>6.055850e+05</td>\n",
       "      <td>6.031866e+05</td>\n",
       "      <td>6.028441e+05</td>\n",
       "      <td>5.945138e+05</td>\n",
       "      <td>5.991205e+05</td>\n",
       "      <td>6.069185e+05</td>\n",
       "      <td>6.024916e+05</td>\n",
       "      <td>6.070709e+05</td>\n",
       "      <td>6.033533e+05</td>\n",
       "      <td>5.990065e+05</td>\n",
       "    </tr>\n",
       "    <tr>\n",
       "      <th>14393</th>\n",
       "      <td>6.636724e+05</td>\n",
       "      <td>6.814612e+05</td>\n",
       "      <td>6.891130e+05</td>\n",
       "      <td>6.831443e+05</td>\n",
       "      <td>6.696061e+05</td>\n",
       "      <td>6.925876e+05</td>\n",
       "      <td>6.872859e+05</td>\n",
       "      <td>6.820387e+05</td>\n",
       "      <td>6.857998e+05</td>\n",
       "      <td>6.770110e+05</td>\n",
       "    </tr>\n",
       "    <tr>\n",
       "      <th>6899</th>\n",
       "      <td>3.335462e+05</td>\n",
       "      <td>3.198436e+05</td>\n",
       "      <td>3.215011e+05</td>\n",
       "      <td>3.331506e+05</td>\n",
       "      <td>3.312459e+05</td>\n",
       "      <td>3.129283e+05</td>\n",
       "      <td>3.141383e+05</td>\n",
       "      <td>3.252289e+05</td>\n",
       "      <td>3.265407e+05</td>\n",
       "      <td>3.394699e+05</td>\n",
       "    </tr>\n",
       "    <tr>\n",
       "      <th>85</th>\n",
       "      <td>9.133185e+05</td>\n",
       "      <td>8.968241e+05</td>\n",
       "      <td>9.075985e+05</td>\n",
       "      <td>9.211937e+05</td>\n",
       "      <td>9.125020e+05</td>\n",
       "      <td>9.223834e+05</td>\n",
       "      <td>8.948379e+05</td>\n",
       "      <td>9.195654e+05</td>\n",
       "      <td>9.160444e+05</td>\n",
       "      <td>9.194404e+05</td>\n",
       "    </tr>\n",
       "    <tr>\n",
       "      <th>21363</th>\n",
       "      <td>4.485983e+05</td>\n",
       "      <td>4.309937e+05</td>\n",
       "      <td>4.342275e+05</td>\n",
       "      <td>4.345081e+05</td>\n",
       "      <td>4.423303e+05</td>\n",
       "      <td>4.270843e+05</td>\n",
       "      <td>4.306556e+05</td>\n",
       "      <td>4.343317e+05</td>\n",
       "      <td>4.314395e+05</td>\n",
       "      <td>4.368533e+05</td>\n",
       "    </tr>\n",
       "  </tbody>\n",
       "</table>\n",
       "<p>6484 rows × 10 columns</p>\n",
       "</div>"
      ],
      "text/plain": [
       "          bagging 1     bagging 2     bagging 3     bagging 4     bagging 5  \\\n",
       "735    5.757589e+05  5.604569e+05  5.644602e+05  5.594797e+05  5.668120e+05   \n",
       "2830   7.144655e+05  7.177401e+05  7.205267e+05  7.073309e+05  7.064351e+05   \n",
       "4106   1.134898e+06  1.107230e+06  1.110765e+06  1.128291e+06  1.124268e+06   \n",
       "16218  1.473265e+06  1.471582e+06  1.472080e+06  1.484090e+06  1.468820e+06   \n",
       "19964  7.058546e+05  6.962142e+05  6.954051e+05  6.990239e+05  7.002996e+05   \n",
       "...             ...           ...           ...           ...           ...   \n",
       "12606  6.055850e+05  6.031866e+05  6.028441e+05  5.945138e+05  5.991205e+05   \n",
       "14393  6.636724e+05  6.814612e+05  6.891130e+05  6.831443e+05  6.696061e+05   \n",
       "6899   3.335462e+05  3.198436e+05  3.215011e+05  3.331506e+05  3.312459e+05   \n",
       "85     9.133185e+05  8.968241e+05  9.075985e+05  9.211937e+05  9.125020e+05   \n",
       "21363  4.485983e+05  4.309937e+05  4.342275e+05  4.345081e+05  4.423303e+05   \n",
       "\n",
       "          bagging 6     bagging 7     bagging 8     bagging 9    bagging 10  \n",
       "735    5.626631e+05  5.580610e+05  5.680743e+05  5.611139e+05  5.615710e+05  \n",
       "2830   7.225747e+05  7.264208e+05  7.136078e+05  7.077751e+05  6.918331e+05  \n",
       "4106   1.136471e+06  1.111281e+06  1.127957e+06  1.119357e+06  1.115053e+06  \n",
       "16218  1.517463e+06  1.486564e+06  1.487337e+06  1.483759e+06  1.461819e+06  \n",
       "19964  7.049770e+05  6.982701e+05  7.026468e+05  7.007379e+05  6.990617e+05  \n",
       "...             ...           ...           ...           ...           ...  \n",
       "12606  6.069185e+05  6.024916e+05  6.070709e+05  6.033533e+05  5.990065e+05  \n",
       "14393  6.925876e+05  6.872859e+05  6.820387e+05  6.857998e+05  6.770110e+05  \n",
       "6899   3.129283e+05  3.141383e+05  3.252289e+05  3.265407e+05  3.394699e+05  \n",
       "85     9.223834e+05  8.948379e+05  9.195654e+05  9.160444e+05  9.194404e+05  \n",
       "21363  4.270843e+05  4.306556e+05  4.343317e+05  4.314395e+05  4.368533e+05  \n",
       "\n",
       "[6484 rows x 10 columns]"
      ]
     },
     "execution_count": 21,
     "metadata": {},
     "output_type": "execute_result"
    }
   ],
   "source": [
    "predicted_data_table = pd.DataFrame()\n",
    "\n",
    "for bagging in range(len(bagging_predict_result)):\n",
    "    predicted_data_table['bagging ' + str(bagging+1)] = bagging_predict_result[bagging]\n",
    "    \n",
    "predicted_data_table"
   ]
  },
  {
   "cell_type": "code",
   "execution_count": 22,
   "metadata": {},
   "outputs": [
    {
     "name": "stdout",
     "output_type": "stream",
     "text": [
      "735      5.757589e+05\n",
      "2830     7.144655e+05\n",
      "4106     1.134898e+06\n",
      "16218    1.473265e+06\n",
      "19964    7.058546e+05\n",
      "             ...     \n",
      "12606    6.055850e+05\n",
      "14393    6.636724e+05\n",
      "6899     3.335462e+05\n",
      "85       9.133185e+05\n",
      "21363    4.485983e+05\n",
      "Length: 6484, dtype: float64\n"
     ]
    }
   ],
   "source": [
    "#1st element in bagging_predict_result\n",
    "#1st bagging\n",
    "print(bagging_predict_result[0])"
   ]
  },
  {
   "cell_type": "code",
   "execution_count": 23,
   "metadata": {},
   "outputs": [
    {
     "name": "stdout",
     "output_type": "stream",
     "text": [
      "<class 'pandas.core.series.Series'>\n"
     ]
    }
   ],
   "source": [
    "#type of 1st element in bagging_predict_result\n",
    "print(type(bagging_predict_result[0]))"
   ]
  },
  {
   "cell_type": "code",
   "execution_count": 24,
   "metadata": {},
   "outputs": [
    {
     "name": "stdout",
     "output_type": "stream",
     "text": [
      "Int64Index([  735,  2830,  4106, 16218, 19964,  1227, 18849, 19369, 20164,\n",
      "             7139,\n",
      "            ...\n",
      "            14851, 16963, 13984, 18954,  1486, 12606, 14393,  6899,    85,\n",
      "            21363],\n",
      "           dtype='int64', length=6484)\n"
     ]
    }
   ],
   "source": [
    "#pd.Series has index and values\n",
    "#Series.index\n",
    "print(bagging_predict_result[0].index)"
   ]
  },
  {
   "cell_type": "code",
   "execution_count": 25,
   "metadata": {},
   "outputs": [
    {
     "name": "stdout",
     "output_type": "stream",
     "text": [
      "[ 575758.89312309  714465.51201361 1134898.21343114 ...  333546.18900968\n",
      "  913318.46989709  448598.26675749]\n"
     ]
    }
   ],
   "source": [
    "#pd.Series has index and values\n",
    "#Series.values\n",
    "print(bagging_predict_result[0].values)"
   ]
  },
  {
   "cell_type": "code",
   "execution_count": 26,
   "metadata": {},
   "outputs": [
    {
     "name": "stdout",
     "output_type": "stream",
     "text": [
      "575758.8931230922\n"
     ]
    }
   ],
   "source": [
    "#1st value in 1st sample\n",
    "print(bagging_predict_result[0].values[0])"
   ]
  },
  {
   "cell_type": "markdown",
   "metadata": {},
   "source": [
    "# get mean value of bagging results"
   ]
  },
  {
   "cell_type": "code",
   "execution_count": 27,
   "metadata": {
    "scrolled": true
   },
   "outputs": [],
   "source": [
    "bagging_predict = []\n",
    "\n",
    "for data_index in range(len(predicted_data_table.index)): #len(predicted_data_table.index):6484\n",
    "    \n",
    "    temp_predict = [] \n",
    "    for bagging in range(len(bagging_predict_result)): #len(bagging_predict_result):10(10 baggings)\n",
    "        temp_predict.append(bagging_predict_result[bagging].values[data_index]) #predicted values of each bagging\n",
    "                                                                                #bagging_predict_result[0].values[3]\n",
    "                                                                                #↳4th value in 1st bagging\n",
    "    \n",
    "    bagging_predict.append(np.mean(temp_predict)) #get mean values of 10 predicted results \n",
    "                                                  #mean value now acts as predicted y value\n",
    "                                                  #thus, we have test_x[0] number of predicted y values"
   ]
  },
  {
   "cell_type": "code",
   "execution_count": 28,
   "metadata": {
    "scrolled": false
   },
   "outputs": [
    {
     "data": {
      "text/html": [
       "<div>\n",
       "<style scoped>\n",
       "    .dataframe tbody tr th:only-of-type {\n",
       "        vertical-align: middle;\n",
       "    }\n",
       "\n",
       "    .dataframe tbody tr th {\n",
       "        vertical-align: top;\n",
       "    }\n",
       "\n",
       "    .dataframe thead th {\n",
       "        text-align: right;\n",
       "    }\n",
       "</style>\n",
       "<table border=\"1\" class=\"dataframe\">\n",
       "  <thead>\n",
       "    <tr style=\"text-align: right;\">\n",
       "      <th></th>\n",
       "      <th>bagging 1</th>\n",
       "      <th>bagging 2</th>\n",
       "      <th>bagging 3</th>\n",
       "      <th>bagging 4</th>\n",
       "      <th>bagging 5</th>\n",
       "      <th>bagging 6</th>\n",
       "      <th>bagging 7</th>\n",
       "      <th>bagging 8</th>\n",
       "      <th>bagging 9</th>\n",
       "      <th>bagging 10</th>\n",
       "      <th>mean</th>\n",
       "    </tr>\n",
       "  </thead>\n",
       "  <tbody>\n",
       "    <tr>\n",
       "      <th>735</th>\n",
       "      <td>5.757589e+05</td>\n",
       "      <td>5.604569e+05</td>\n",
       "      <td>5.644602e+05</td>\n",
       "      <td>5.594797e+05</td>\n",
       "      <td>5.668120e+05</td>\n",
       "      <td>5.626631e+05</td>\n",
       "      <td>5.580610e+05</td>\n",
       "      <td>5.680743e+05</td>\n",
       "      <td>5.611139e+05</td>\n",
       "      <td>5.615710e+05</td>\n",
       "      <td>5.638451e+05</td>\n",
       "    </tr>\n",
       "    <tr>\n",
       "      <th>2830</th>\n",
       "      <td>7.144655e+05</td>\n",
       "      <td>7.177401e+05</td>\n",
       "      <td>7.205267e+05</td>\n",
       "      <td>7.073309e+05</td>\n",
       "      <td>7.064351e+05</td>\n",
       "      <td>7.225747e+05</td>\n",
       "      <td>7.264208e+05</td>\n",
       "      <td>7.136078e+05</td>\n",
       "      <td>7.077751e+05</td>\n",
       "      <td>6.918331e+05</td>\n",
       "      <td>7.128710e+05</td>\n",
       "    </tr>\n",
       "    <tr>\n",
       "      <th>4106</th>\n",
       "      <td>1.134898e+06</td>\n",
       "      <td>1.107230e+06</td>\n",
       "      <td>1.110765e+06</td>\n",
       "      <td>1.128291e+06</td>\n",
       "      <td>1.124268e+06</td>\n",
       "      <td>1.136471e+06</td>\n",
       "      <td>1.111281e+06</td>\n",
       "      <td>1.127957e+06</td>\n",
       "      <td>1.119357e+06</td>\n",
       "      <td>1.115053e+06</td>\n",
       "      <td>1.121557e+06</td>\n",
       "    </tr>\n",
       "    <tr>\n",
       "      <th>16218</th>\n",
       "      <td>1.473265e+06</td>\n",
       "      <td>1.471582e+06</td>\n",
       "      <td>1.472080e+06</td>\n",
       "      <td>1.484090e+06</td>\n",
       "      <td>1.468820e+06</td>\n",
       "      <td>1.517463e+06</td>\n",
       "      <td>1.486564e+06</td>\n",
       "      <td>1.487337e+06</td>\n",
       "      <td>1.483759e+06</td>\n",
       "      <td>1.461819e+06</td>\n",
       "      <td>1.480678e+06</td>\n",
       "    </tr>\n",
       "    <tr>\n",
       "      <th>19964</th>\n",
       "      <td>7.058546e+05</td>\n",
       "      <td>6.962142e+05</td>\n",
       "      <td>6.954051e+05</td>\n",
       "      <td>6.990239e+05</td>\n",
       "      <td>7.002996e+05</td>\n",
       "      <td>7.049770e+05</td>\n",
       "      <td>6.982701e+05</td>\n",
       "      <td>7.026468e+05</td>\n",
       "      <td>7.007379e+05</td>\n",
       "      <td>6.990617e+05</td>\n",
       "      <td>7.002491e+05</td>\n",
       "    </tr>\n",
       "    <tr>\n",
       "      <th>...</th>\n",
       "      <td>...</td>\n",
       "      <td>...</td>\n",
       "      <td>...</td>\n",
       "      <td>...</td>\n",
       "      <td>...</td>\n",
       "      <td>...</td>\n",
       "      <td>...</td>\n",
       "      <td>...</td>\n",
       "      <td>...</td>\n",
       "      <td>...</td>\n",
       "      <td>...</td>\n",
       "    </tr>\n",
       "    <tr>\n",
       "      <th>12606</th>\n",
       "      <td>6.055850e+05</td>\n",
       "      <td>6.031866e+05</td>\n",
       "      <td>6.028441e+05</td>\n",
       "      <td>5.945138e+05</td>\n",
       "      <td>5.991205e+05</td>\n",
       "      <td>6.069185e+05</td>\n",
       "      <td>6.024916e+05</td>\n",
       "      <td>6.070709e+05</td>\n",
       "      <td>6.033533e+05</td>\n",
       "      <td>5.990065e+05</td>\n",
       "      <td>6.024091e+05</td>\n",
       "    </tr>\n",
       "    <tr>\n",
       "      <th>14393</th>\n",
       "      <td>6.636724e+05</td>\n",
       "      <td>6.814612e+05</td>\n",
       "      <td>6.891130e+05</td>\n",
       "      <td>6.831443e+05</td>\n",
       "      <td>6.696061e+05</td>\n",
       "      <td>6.925876e+05</td>\n",
       "      <td>6.872859e+05</td>\n",
       "      <td>6.820387e+05</td>\n",
       "      <td>6.857998e+05</td>\n",
       "      <td>6.770110e+05</td>\n",
       "      <td>6.811720e+05</td>\n",
       "    </tr>\n",
       "    <tr>\n",
       "      <th>6899</th>\n",
       "      <td>3.335462e+05</td>\n",
       "      <td>3.198436e+05</td>\n",
       "      <td>3.215011e+05</td>\n",
       "      <td>3.331506e+05</td>\n",
       "      <td>3.312459e+05</td>\n",
       "      <td>3.129283e+05</td>\n",
       "      <td>3.141383e+05</td>\n",
       "      <td>3.252289e+05</td>\n",
       "      <td>3.265407e+05</td>\n",
       "      <td>3.394699e+05</td>\n",
       "      <td>3.257594e+05</td>\n",
       "    </tr>\n",
       "    <tr>\n",
       "      <th>85</th>\n",
       "      <td>9.133185e+05</td>\n",
       "      <td>8.968241e+05</td>\n",
       "      <td>9.075985e+05</td>\n",
       "      <td>9.211937e+05</td>\n",
       "      <td>9.125020e+05</td>\n",
       "      <td>9.223834e+05</td>\n",
       "      <td>8.948379e+05</td>\n",
       "      <td>9.195654e+05</td>\n",
       "      <td>9.160444e+05</td>\n",
       "      <td>9.194404e+05</td>\n",
       "      <td>9.123708e+05</td>\n",
       "    </tr>\n",
       "    <tr>\n",
       "      <th>21363</th>\n",
       "      <td>4.485983e+05</td>\n",
       "      <td>4.309937e+05</td>\n",
       "      <td>4.342275e+05</td>\n",
       "      <td>4.345081e+05</td>\n",
       "      <td>4.423303e+05</td>\n",
       "      <td>4.270843e+05</td>\n",
       "      <td>4.306556e+05</td>\n",
       "      <td>4.343317e+05</td>\n",
       "      <td>4.314395e+05</td>\n",
       "      <td>4.368533e+05</td>\n",
       "      <td>4.351022e+05</td>\n",
       "    </tr>\n",
       "  </tbody>\n",
       "</table>\n",
       "<p>6484 rows × 11 columns</p>\n",
       "</div>"
      ],
      "text/plain": [
       "          bagging 1     bagging 2     bagging 3     bagging 4     bagging 5  \\\n",
       "735    5.757589e+05  5.604569e+05  5.644602e+05  5.594797e+05  5.668120e+05   \n",
       "2830   7.144655e+05  7.177401e+05  7.205267e+05  7.073309e+05  7.064351e+05   \n",
       "4106   1.134898e+06  1.107230e+06  1.110765e+06  1.128291e+06  1.124268e+06   \n",
       "16218  1.473265e+06  1.471582e+06  1.472080e+06  1.484090e+06  1.468820e+06   \n",
       "19964  7.058546e+05  6.962142e+05  6.954051e+05  6.990239e+05  7.002996e+05   \n",
       "...             ...           ...           ...           ...           ...   \n",
       "12606  6.055850e+05  6.031866e+05  6.028441e+05  5.945138e+05  5.991205e+05   \n",
       "14393  6.636724e+05  6.814612e+05  6.891130e+05  6.831443e+05  6.696061e+05   \n",
       "6899   3.335462e+05  3.198436e+05  3.215011e+05  3.331506e+05  3.312459e+05   \n",
       "85     9.133185e+05  8.968241e+05  9.075985e+05  9.211937e+05  9.125020e+05   \n",
       "21363  4.485983e+05  4.309937e+05  4.342275e+05  4.345081e+05  4.423303e+05   \n",
       "\n",
       "          bagging 6     bagging 7     bagging 8     bagging 9    bagging 10  \\\n",
       "735    5.626631e+05  5.580610e+05  5.680743e+05  5.611139e+05  5.615710e+05   \n",
       "2830   7.225747e+05  7.264208e+05  7.136078e+05  7.077751e+05  6.918331e+05   \n",
       "4106   1.136471e+06  1.111281e+06  1.127957e+06  1.119357e+06  1.115053e+06   \n",
       "16218  1.517463e+06  1.486564e+06  1.487337e+06  1.483759e+06  1.461819e+06   \n",
       "19964  7.049770e+05  6.982701e+05  7.026468e+05  7.007379e+05  6.990617e+05   \n",
       "...             ...           ...           ...           ...           ...   \n",
       "12606  6.069185e+05  6.024916e+05  6.070709e+05  6.033533e+05  5.990065e+05   \n",
       "14393  6.925876e+05  6.872859e+05  6.820387e+05  6.857998e+05  6.770110e+05   \n",
       "6899   3.129283e+05  3.141383e+05  3.252289e+05  3.265407e+05  3.394699e+05   \n",
       "85     9.223834e+05  8.948379e+05  9.195654e+05  9.160444e+05  9.194404e+05   \n",
       "21363  4.270843e+05  4.306556e+05  4.343317e+05  4.314395e+05  4.368533e+05   \n",
       "\n",
       "               mean  \n",
       "735    5.638451e+05  \n",
       "2830   7.128710e+05  \n",
       "4106   1.121557e+06  \n",
       "16218  1.480678e+06  \n",
       "19964  7.002491e+05  \n",
       "...             ...  \n",
       "12606  6.024091e+05  \n",
       "14393  6.811720e+05  \n",
       "6899   3.257594e+05  \n",
       "85     9.123708e+05  \n",
       "21363  4.351022e+05  \n",
       "\n",
       "[6484 rows x 11 columns]"
      ]
     },
     "execution_count": 28,
     "metadata": {},
     "output_type": "execute_result"
    }
   ],
   "source": [
    "predicted_data_table['mean'] = bagging_predict\n",
    "predicted_data_table"
   ]
  },
  {
   "cell_type": "markdown",
   "metadata": {},
   "source": [
    "# compare regression RMSE & bagging RMSE"
   ]
  },
  {
   "cell_type": "code",
   "execution_count": 29,
   "metadata": {
    "scrolled": true
   },
   "outputs": [
    {
     "name": "stdout",
     "output_type": "stream",
     "text": [
      "regression RMSE: 241753.6905042477\n",
      "bagging RMSE: 239940.69228895457\n",
      "➜ bagging RMSE is smaller than regression RMSE\n"
     ]
    }
   ],
   "source": [
    "print(\"regression RMSE: {}\".format(sqrt(mean_squared_error(sm_model_predict, test_y)))) \n",
    "print(\"bagging RMSE: {}\".format(sqrt(mean_squared_error(bagging_predict, test_y))))\n",
    "reg_RMSE = sqrt(mean_squared_error(sm_model_predict, test_y))\n",
    "bagging_RMSE = sqrt(mean_squared_error(bagging_predict, test_y))\n",
    "if bagging_RMSE < reg_RMSE:\n",
    "    print('➜ bagging RMSE is smaller than regression RMSE')\n",
    "else:\n",
    "    print('➜ regression RMSE is smaller than bagging RMSE')"
   ]
  },
  {
   "cell_type": "markdown",
   "metadata": {},
   "source": [
    " "
   ]
  },
  {
   "cell_type": "markdown",
   "metadata": {},
   "source": [
    " "
   ]
  },
  {
   "cell_type": "markdown",
   "metadata": {},
   "source": [
    " "
   ]
  },
  {
   "cell_type": "markdown",
   "metadata": {},
   "source": [
    "# 3. Bagging(sklearn ver.)"
   ]
  },
  {
   "cell_type": "markdown",
   "metadata": {},
   "source": [
    "# import libraries"
   ]
  },
  {
   "cell_type": "code",
   "execution_count": 30,
   "metadata": {},
   "outputs": [],
   "source": [
    "from sklearn.linear_model import LinearRegression\n",
    "from sklearn.ensemble import BaggingRegressor"
   ]
  },
  {
   "cell_type": "markdown",
   "metadata": {},
   "source": [
    "# regression model"
   ]
  },
  {
   "cell_type": "code",
   "execution_count": 31,
   "metadata": {},
   "outputs": [
    {
     "name": "stdout",
     "output_type": "stream",
     "text": [
      "regression RMSE: 239804.29670858147\n"
     ]
    }
   ],
   "source": [
    "regression_model = LinearRegression() #linear regression model\n",
    "linear_model1 = regression_model.fit(train_x, train_y) #train with regression model using train data\n",
    "predict1 = linear_model1.predict(test_x) #make predictions with fitted model using test data\n",
    "print(\"regression RMSE: {}\".format(sqrt(mean_squared_error(predict1, test_y)))) #RMSE"
   ]
  },
  {
   "cell_type": "markdown",
   "metadata": {},
   "source": [
    "# bagging (5 samplings)"
   ]
  },
  {
   "cell_type": "code",
   "execution_count": 32,
   "metadata": {
    "scrolled": true
   },
   "outputs": [
    {
     "name": "stdout",
     "output_type": "stream",
     "text": [
      "bagging(5 samplings) RMSE: 239909.97684827202\n"
     ]
    },
    {
     "name": "stderr",
     "output_type": "stream",
     "text": [
      "/Users/jeongwonmin/anaconda3/lib/python3.7/site-packages/sklearn/ensemble/_bagging.py:399: DataConversionWarning: A column-vector y was passed when a 1d array was expected. Please change the shape of y to (n_samples, ), for example using ravel().\n",
      "  return column_or_1d(y, warn=True)\n",
      "[Parallel(n_jobs=1)]: Using backend SequentialBackend with 1 concurrent workers.\n",
      "[Parallel(n_jobs=1)]: Done   1 out of   1 | elapsed:    0.0s finished\n",
      "[Parallel(n_jobs=1)]: Using backend SequentialBackend with 1 concurrent workers.\n",
      "[Parallel(n_jobs=1)]: Done   1 out of   1 | elapsed:    0.0s finished\n"
     ]
    }
   ],
   "source": [
    "bagging_model1 = BaggingRegressor(base_estimator = regression_model, #regression model\n",
    "                                 n_estimators = 5, #5 samplings\n",
    "                                 verbose = 1) #show training progress\n",
    "linear_model2 = bagging_model1.fit(train_x, train_y) #train\n",
    "predict2 = linear_model2.predict(test_x) #predict using test data\n",
    "print(\"bagging(5 samplings) RMSE: {}\".format(sqrt(mean_squared_error(predict2, test_y)))) #RMSE"
   ]
  },
  {
   "cell_type": "markdown",
   "metadata": {},
   "source": [
    "# bagging(50 samplings)"
   ]
  },
  {
   "cell_type": "code",
   "execution_count": 33,
   "metadata": {},
   "outputs": [
    {
     "name": "stdout",
     "output_type": "stream",
     "text": [
      "bagging(50 samplings) RMSE: 239850.64935630304\n"
     ]
    },
    {
     "name": "stderr",
     "output_type": "stream",
     "text": [
      "/Users/jeongwonmin/anaconda3/lib/python3.7/site-packages/sklearn/ensemble/_bagging.py:399: DataConversionWarning: A column-vector y was passed when a 1d array was expected. Please change the shape of y to (n_samples, ), for example using ravel().\n",
      "  return column_or_1d(y, warn=True)\n",
      "[Parallel(n_jobs=1)]: Using backend SequentialBackend with 1 concurrent workers.\n",
      "[Parallel(n_jobs=1)]: Done   1 out of   1 | elapsed:    0.1s finished\n",
      "[Parallel(n_jobs=1)]: Using backend SequentialBackend with 1 concurrent workers.\n",
      "[Parallel(n_jobs=1)]: Done   1 out of   1 | elapsed:    0.0s finished\n"
     ]
    }
   ],
   "source": [
    "bagging_model2 = BaggingRegressor(base_estimator = regression_model, #regression model\n",
    "                                  n_estimators = 50, #50 samplings\n",
    "                                  verbose = 1) #show training progress\n",
    "linear_model3 = bagging_model2.fit(train_x, train_y) #train\n",
    "predict3 = linear_model3.predict(test_x) #predict using test data\n",
    "print(\"bagging(50 samplings) RMSE: {}\".format(sqrt(mean_squared_error(predict3, test_y)))) #RMSE"
   ]
  },
  {
   "cell_type": "markdown",
   "metadata": {},
   "source": [
    "# RMSE comparison"
   ]
  },
  {
   "cell_type": "code",
   "execution_count": 34,
   "metadata": {},
   "outputs": [
    {
     "name": "stdout",
     "output_type": "stream",
     "text": [
      "regression RMSE: 239804.29670858147\n",
      "bagging(5 samplings) RMSE: 239909.97684827202\n",
      "bagging(50 samplings) RMSE: 239850.64935630304\n"
     ]
    }
   ],
   "source": [
    "print(\"regression RMSE: {}\".format(sqrt(mean_squared_error(predict1, test_y))))\n",
    "print(\"bagging(5 samplings) RMSE: {}\".format(sqrt(mean_squared_error(predict2, test_y)))) \n",
    "print(\"bagging(50 samplings) RMSE: {}\".format(sqrt(mean_squared_error(predict3, test_y)))) "
   ]
  },
  {
   "cell_type": "markdown",
   "metadata": {},
   "source": [
    "  "
   ]
  },
  {
   "cell_type": "markdown",
   "metadata": {},
   "source": [
    "   \n",
    "   "
   ]
  },
  {
   "cell_type": "markdown",
   "metadata": {},
   "source": [
    "  "
   ]
  },
  {
   "cell_type": "markdown",
   "metadata": {},
   "source": [
    "# 4. decision tree model(for loop ver.)"
   ]
  },
  {
   "cell_type": "markdown",
   "metadata": {},
   "source": [
    "# import libraries"
   ]
  },
  {
   "cell_type": "code",
   "execution_count": 35,
   "metadata": {},
   "outputs": [],
   "source": [
    "from sklearn.tree import DecisionTreeRegressor\n",
    "import random"
   ]
  },
  {
   "cell_type": "code",
   "execution_count": 36,
   "metadata": {},
   "outputs": [
    {
     "name": "stdout",
     "output_type": "stream",
     "text": [
      "decision tree RMSE: 295275.44325011893\n"
     ]
    }
   ],
   "source": [
    "decision_tree_model = DecisionTreeRegressor() #decision tree model\n",
    "tree_model1 = decision_tree_model.fit(train_x, train_y) #fit training data with decision tree model\n",
    "predict1 = tree_model1.predict(test_x) #predict with fitted model using test data\n",
    "print(\"decision tree RMSE: {}\".format(sqrt(mean_squared_error(predict1, test_y)))) #RMSE"
   ]
  },
  {
   "cell_type": "code",
   "execution_count": 37,
   "metadata": {
    "scrolled": true
   },
   "outputs": [
    {
     "name": "stdout",
     "output_type": "stream",
     "text": [
      "sampling 0 : 9580\n",
      "sampling 1 : 9578\n",
      "sampling 2 : 9619\n",
      "sampling 3 : 9540\n",
      "sampling 4 : 9551\n",
      "sampling 5 : 9521\n",
      "sampling 6 : 9506\n",
      "sampling 7 : 9518\n",
      "sampling 8 : 9573\n",
      "sampling 9 : 9535\n",
      "sampling 10 : 9603\n",
      "sampling 11 : 9534\n",
      "sampling 12 : 9451\n",
      "sampling 13 : 9547\n",
      "sampling 14 : 9543\n",
      "sampling 15 : 9534\n",
      "sampling 16 : 9667\n",
      "sampling 17 : 9601\n",
      "sampling 18 : 9560\n",
      "sampling 19 : 9578\n",
      "sampling 20 : 9581\n",
      "sampling 21 : 9517\n",
      "sampling 22 : 9618\n",
      "sampling 23 : 9594\n",
      "sampling 24 : 9528\n",
      "sampling 25 : 9529\n",
      "sampling 26 : 9626\n",
      "sampling 27 : 9522\n",
      "sampling 28 : 9523\n",
      "sampling 29 : 9579\n"
     ]
    }
   ],
   "source": [
    "bagging_predict_result = [] \n",
    "\n",
    "for _ in range(30):\n",
    "    data_index = [data_index for data_index in range(train_x.shape[0])] #put train data index into list\n",
    "    random_data_index = np.random.choice(data_index, train_x.shape[0]) #data sampling(data : data_index, \n",
    "                                                                       #sampling size : # train_x)\n",
    "    print('sampling', _ , ':', len(set(random_data_index))) #sampling with replacement\n",
    "    \n",
    "    sm_train_x = train_x.iloc[random_data_index,] #features(row) corresponding to random index\n",
    "    sm_train_y = train_y.iloc[random_data_index,] #label corresponding to random index\n",
    "    \n",
    "    decision_tree_model = DecisionTreeRegressor() #decision tree model\n",
    "    tree_model1 = decision_tree_model.fit(sm_train_x, sm_train_y) #fit training data with decision tree model\n",
    " \n",
    "    predict1 = tree_model1.predict(test_x) #predict with fitted model using test data\n",
    "    bagging_predict_result.append(predict1) #save the predictions"
   ]
  },
  {
   "cell_type": "markdown",
   "metadata": {},
   "source": [
    "# get mean value of bagging results"
   ]
  },
  {
   "cell_type": "code",
   "execution_count": 38,
   "metadata": {},
   "outputs": [
    {
     "data": {
      "text/plain": [
       "30"
      ]
     },
     "execution_count": 38,
     "metadata": {},
     "output_type": "execute_result"
    }
   ],
   "source": [
    "len(bagging_predict_result)"
   ]
  },
  {
   "cell_type": "code",
   "execution_count": 39,
   "metadata": {},
   "outputs": [
    {
     "data": {
      "text/plain": [
       "numpy.ndarray"
      ]
     },
     "execution_count": 39,
     "metadata": {},
     "output_type": "execute_result"
    }
   ],
   "source": [
    "type(bagging_predict_result[0])"
   ]
  },
  {
   "cell_type": "code",
   "execution_count": 40,
   "metadata": {
    "scrolled": true
   },
   "outputs": [],
   "source": [
    "bagging_predict = [] \n",
    "\n",
    "for data_index in range(test_x.shape[0]): #test_x.shape[0]:6484\n",
    "   \n",
    "    temp_predict = []\n",
    "    for bagging in range(len(bagging_predict_result)): #len(bagging_predict_result):30(30 baggings)\n",
    "        temp_predict.append(bagging_predict_result[bagging][data_index]) #predicted values of each bagging\n",
    "                                                                         #bagging_predict_result[0][3]\n",
    "                                                                         #↳4th value in 1st bagging\n",
    "    bagging_predict.append(np.mean(temp_predict)) #get mean values of 10 predicted results \n",
    "                                                  #mean value now acts as predicted y value\n",
    "                                                  #thus, we have test_x[0] number of predicted y values"
   ]
  },
  {
   "cell_type": "code",
   "execution_count": 41,
   "metadata": {},
   "outputs": [
    {
     "name": "stdout",
     "output_type": "stream",
     "text": [
      "decision tree bagging RMSE: 233091.33499206684\n"
     ]
    }
   ],
   "source": [
    "print(\"decision tree bagging RMSE: {}\".format(sqrt(mean_squared_error(bagging_predict, test_y)))) # RMSE"
   ]
  },
  {
   "cell_type": "code",
   "execution_count": 42,
   "metadata": {},
   "outputs": [
    {
     "data": {
      "text/plain": [
       "array([ 322500.        , 1100000.        ,  878000.        , ...,\n",
       "        264603.57142857,  790000.        ,  460341.14285714])"
      ]
     },
     "execution_count": 42,
     "metadata": {},
     "output_type": "execute_result"
    }
   ],
   "source": [
    "bagging_predict_result[29]"
   ]
  },
  {
   "cell_type": "markdown",
   "metadata": {},
   "source": [
    "  "
   ]
  },
  {
   "cell_type": "markdown",
   "metadata": {},
   "source": [
    "      "
   ]
  },
  {
   "cell_type": "markdown",
   "metadata": {},
   "source": [
    "   "
   ]
  },
  {
   "cell_type": "markdown",
   "metadata": {},
   "source": [
    "# 5. decision tree(sklearn ver.)"
   ]
  },
  {
   "cell_type": "code",
   "execution_count": 43,
   "metadata": {},
   "outputs": [
    {
     "name": "stdout",
     "output_type": "stream",
     "text": [
      "bagging(5 samplings) RMSE: 241887.69449245033\n"
     ]
    },
    {
     "name": "stderr",
     "output_type": "stream",
     "text": [
      "/Users/jeongwonmin/anaconda3/lib/python3.7/site-packages/sklearn/ensemble/_bagging.py:399: DataConversionWarning: A column-vector y was passed when a 1d array was expected. Please change the shape of y to (n_samples, ), for example using ravel().\n",
      "  return column_or_1d(y, warn=True)\n",
      "[Parallel(n_jobs=1)]: Using backend SequentialBackend with 1 concurrent workers.\n",
      "[Parallel(n_jobs=1)]: Done   1 out of   1 | elapsed:    0.1s finished\n",
      "[Parallel(n_jobs=1)]: Using backend SequentialBackend with 1 concurrent workers.\n",
      "[Parallel(n_jobs=1)]: Done   1 out of   1 | elapsed:    0.0s finished\n"
     ]
    }
   ],
   "source": [
    "bagging_decision_tree_model1 = BaggingRegressor(base_estimator = decision_tree_model, #decision tree model\n",
    "                                                n_estimators = 5, #5 samplings\n",
    "                                                verbose = 1) #show training progress\n",
    "tree_model2 = bagging_decision_tree_model1.fit(train_x, train_y) #train\n",
    "predict2 = tree_model2.predict(test_x) #predict using test data\n",
    "print(\"bagging(5 samplings) RMSE: {}\".format(sqrt(mean_squared_error(predict2, test_y)))) #RMSE"
   ]
  },
  {
   "cell_type": "code",
   "execution_count": 44,
   "metadata": {},
   "outputs": [
    {
     "name": "stderr",
     "output_type": "stream",
     "text": [
      "/Users/jeongwonmin/anaconda3/lib/python3.7/site-packages/sklearn/ensemble/_bagging.py:399: DataConversionWarning: A column-vector y was passed when a 1d array was expected. Please change the shape of y to (n_samples, ), for example using ravel().\n",
      "  return column_or_1d(y, warn=True)\n",
      "[Parallel(n_jobs=1)]: Using backend SequentialBackend with 1 concurrent workers.\n"
     ]
    },
    {
     "name": "stdout",
     "output_type": "stream",
     "text": [
      "bagging(30 samplings) RMSE: 234133.8881119548\n"
     ]
    },
    {
     "name": "stderr",
     "output_type": "stream",
     "text": [
      "[Parallel(n_jobs=1)]: Done   1 out of   1 | elapsed:    0.5s finished\n",
      "[Parallel(n_jobs=1)]: Using backend SequentialBackend with 1 concurrent workers.\n",
      "[Parallel(n_jobs=1)]: Done   1 out of   1 | elapsed:    0.0s finished\n"
     ]
    }
   ],
   "source": [
    "bagging_decision_tree_model2 = BaggingRegressor(base_estimator = decision_tree_model, #decision tree model\n",
    "                                                n_estimators = 30, #30 samplings\n",
    "                                                verbose = 1) #show training progress\n",
    "tree_model3 = bagging_decision_tree_model2.fit(train_x, train_y) #train\n",
    "predict3 = tree_model3.predict(test_x) #predict using test data\n",
    "print(\"bagging(30 samplings) RMSE: {}\".format(sqrt(mean_squared_error(predict3, test_y)))) #RMSE"
   ]
  },
  {
   "cell_type": "markdown",
   "metadata": {},
   "source": [
    "# RMSE comparison"
   ]
  },
  {
   "cell_type": "code",
   "execution_count": 45,
   "metadata": {},
   "outputs": [
    {
     "name": "stdout",
     "output_type": "stream",
     "text": [
      "decision tree RMSE: 305968.918371382\n",
      "bagging(5 samplings) RMSE: 241887.69449245033\n",
      "bagging(30 samplings) RMSE: 234133.8881119548\n"
     ]
    }
   ],
   "source": [
    "print(\"decision tree RMSE: {}\".format(sqrt(mean_squared_error(predict1, test_y)))) \n",
    "print(\"bagging(5 samplings) RMSE: {}\".format(sqrt(mean_squared_error(predict2, test_y)))) \n",
    "print(\"bagging(30 samplings) RMSE: {}\".format(sqrt(mean_squared_error(predict3, test_y)))) "
   ]
  },
  {
   "cell_type": "code",
   "execution_count": null,
   "metadata": {},
   "outputs": [],
   "source": []
  }
 ],
 "metadata": {
  "kernelspec": {
   "display_name": "Python 3",
   "language": "python",
   "name": "python3"
  },
  "language_info": {
   "codemirror_mode": {
    "name": "ipython",
    "version": 3
   },
   "file_extension": ".py",
   "mimetype": "text/x-python",
   "name": "python",
   "nbconvert_exporter": "python",
   "pygments_lexer": "ipython3",
   "version": "3.7.6"
  }
 },
 "nbformat": 4,
 "nbformat_minor": 2
}
