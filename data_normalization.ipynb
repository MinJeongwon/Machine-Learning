{
 "cells": [
  {
   "cell_type": "markdown",
   "metadata": {},
   "source": [
    "# import libraries"
   ]
  },
  {
   "cell_type": "code",
   "execution_count": 15,
   "metadata": {},
   "outputs": [
    {
     "name": "stdout",
     "output_type": "stream",
     "text": [
      "2.1.0\n"
     ]
    }
   ],
   "source": [
    "import tensorflow as tf\n",
    "import numpy as np\n",
    "import matplotlib.pyplot as plt\n",
    "%matplotlib inline\n",
    "from IPython.display import Image\n",
    "\n",
    "tf.random.set_seed(777)\n",
    "print(tf.__version__)"
   ]
  },
  {
   "cell_type": "markdown",
   "metadata": {},
   "source": [
    "# normalization(scale data into 0-1)"
   ]
  },
  {
   "cell_type": "code",
   "execution_count": 16,
   "metadata": {},
   "outputs": [],
   "source": [
    "def normalization(data):\n",
    "    numerator = data - np.min(data, 0)\n",
    "    denominator = np.max(data, 0) - np.min(data, 0)\n",
    "    return numerator / denominator"
   ]
  },
  {
   "cell_type": "markdown",
   "metadata": {},
   "source": [
    "<img src=\"./data/normalization.png\" alt=\"image\" style=\"width: 300px;\" align=\"left\"/>"
   ]
  },
  {
   "cell_type": "markdown",
   "metadata": {},
   "source": [
    "# data settings"
   ]
  },
  {
   "cell_type": "code",
   "execution_count": 17,
   "metadata": {},
   "outputs": [
    {
     "name": "stdout",
     "output_type": "stream",
     "text": [
      "[[1.         1.         0.         1.         1.        ]\n",
      " [0.70548491 0.70439552 1.         0.71881783 0.83755792]\n",
      " [0.54412549 0.50274824 0.57608696 0.60646801 0.6606331 ]\n",
      " [0.33890353 0.31368023 0.10869565 0.45989134 0.43800918]\n",
      " [0.51436    0.4258239  0.30434783 0.58504805 0.42624401]\n",
      " [0.49556179 0.4258239  0.31521739 0.48131134 0.49276137]\n",
      " [0.11436064 0.         0.20652174 0.22007776 0.18597238]\n",
      " [0.         0.07747099 0.5326087  0.         0.        ]]\n"
     ]
    },
    {
     "data": {
      "image/png": "[encoded data removed]",
      "text/plain": [
       "<Figure size 720x576 with 2 Axes>"
      ]
     },
     "metadata": {
      "needs_background": "light"
     },
     "output_type": "display_data"
    }
   ],
   "source": [
    "xy = np.array([[828.659973, 833.450012, 908100, 828.349976, 831.659973],\n",
    "               [823.02002, 828.070007, 1828100, 821.655029, 828.070007],\n",
    "               [819.929993, 824.400024, 1438100, 818.97998, 824.159973],\n",
    "               [816, 820.958984, 1008100, 815.48999, 819.23999],\n",
    "               [819.359985, 823, 1188100, 818.469971, 818.97998],\n",
    "               [819, 823, 1198100, 816, 820.450012],\n",
    "               [811.700012, 815.25, 1098100, 809.780029, 813.669983],\n",
    "               [809.51001, 816.659973, 1398100, 804.539978, 809.559998]])\n",
    "\n",
    "#before normalization\n",
    "x_train = xy[:, 0:-1]\n",
    "y_train = xy[:, [-1]]\n",
    "\n",
    "fig = plt.figure(figsize = (10,8))\n",
    "fig.add_subplot(211)\n",
    "plt.plot(x_train, 'ro') #plot with red circles\n",
    "plt.plot(y_train, marker = 'o')\n",
    "plt.title(\"raw data\")\n",
    "\n",
    "#after normalization\n",
    "xy = normalization(xy)\n",
    "print(xy)\n",
    "\n",
    "x_train = xy[:, 0:-1]\n",
    "y_train = xy[:, [-1]]\n",
    "\n",
    "fig.add_subplot(212)\n",
    "plt.plot(x_train, 'ro')\n",
    "plt.plot(y_train, marker = 'o')\n",
    "plt.title(\"normalized data\")\n",
    "\n",
    "plt.show()\n",
    "\n",
    "dataset = tf.data.Dataset.from_tensor_slices((x_train, y_train)).batch(len(x_train))"
   ]
  },
  {
   "cell_type": "markdown",
   "metadata": {},
   "source": [
    "# weight and bias settings"
   ]
  },
  {
   "cell_type": "code",
   "execution_count": 18,
   "metadata": {},
   "outputs": [],
   "source": [
    "W = tf.Variable(tf.random.normal([4, 1]), dtype = tf.float32)\n",
    "b = tf.Variable(tf.random.normal([1]), dtype = tf.float32)\n",
    "variables = [W, b]"
   ]
  },
  {
   "cell_type": "markdown",
   "metadata": {},
   "source": [
    "# hypothesis"
   ]
  },
  {
   "cell_type": "code",
   "execution_count": 19,
   "metadata": {},
   "outputs": [],
   "source": [
    "def linearReg_fn(features):\n",
    "    hypothesis = tf.matmul(features, W) + b\n",
    "    return hypothesis"
   ]
  },
  {
   "cell_type": "markdown",
   "metadata": {},
   "source": [
    "# l2 loss function"
   ]
  },
  {
   "cell_type": "code",
   "execution_count": 20,
   "metadata": {},
   "outputs": [],
   "source": [
    "def l2_loss(loss, beta = 0.01):\n",
    "    W_reg = tf.nn.l2_loss(W) # output = sum(W ** 2) / 2\n",
    "    loss = tf.reduce_mean(loss + W_reg * beta)\n",
    "    return loss"
   ]
  },
  {
   "cell_type": "markdown",
   "metadata": {},
   "source": [
    "<img src=\"./data/l2lossfn.png\" alt=\"image\" style=\"width: 300px;\" align=\"left\"/>"
   ]
  },
  {
   "cell_type": "markdown",
   "metadata": {},
   "source": [
    "# cost function(mse)"
   ]
  },
  {
   "cell_type": "code",
   "execution_count": 21,
   "metadata": {},
   "outputs": [],
   "source": [
    "def loss_fn(hypothesis, features, labels, flag = False):\n",
    "    cost = tf.reduce_mean(tf.square(hypothesis - labels))\n",
    "    if(flag):\n",
    "        cost = l2_loss(cost)\n",
    "    return cost"
   ]
  },
  {
   "cell_type": "markdown",
   "metadata": {},
   "source": [
    "# learning rate decay \n",
    "* initial_learning_rate\n",
    "* decay_steps\n",
    "* decay_rate\n",
    "* staircase\n",
    "\n",
    "from : https://www.tensorflow.org/guide/keras/train_and_evaluate"
   ]
  },
  {
   "cell_type": "code",
   "execution_count": 22,
   "metadata": {},
   "outputs": [],
   "source": [
    "lr_schedule = tf.keras.optimizers.schedules.ExponentialDecay(initial_learning_rate = 0.1,\n",
    "                                                          decay_steps = 100,\n",
    "                                                          decay_rate = 0.96,\n",
    "                                                          staircase = True)\n",
    "    \n",
    "if(True):\n",
    "    optimizer = tf.keras.optimizers.SGD(learning_rate = lr_schedule)\n",
    "else:\n",
    "    optimizer = tf.keras.optimizers.SGD(learning_rate = initial_learning_rate)"
   ]
  },
  {
   "cell_type": "markdown",
   "metadata": {},
   "source": [
    "# cost minimization"
   ]
  },
  {
   "cell_type": "code",
   "execution_count": 23,
   "metadata": {},
   "outputs": [],
   "source": [
    "def grad(features, labels):\n",
    "    with tf.GradientTape() as tape:\n",
    "        loss_value = loss_fn(linearReg_fn(features), features, labels)\n",
    "    return tape.gradient(loss_value, variables), loss_value"
   ]
  },
  {
   "cell_type": "markdown",
   "metadata": {},
   "source": [
    "# train"
   ]
  },
  {
   "cell_type": "code",
   "execution_count": 24,
   "metadata": {
    "scrolled": false
   },
   "outputs": [
    {
     "name": "stdout",
     "output_type": "stream",
     "text": [
      "Iter: 0, Loss: 1.7346, Learning Rate: 0.10000000\n",
      "Iter: 10, Loss: 0.0745, Learning Rate: 0.10000000\n",
      "Iter: 20, Loss: 0.0438, Learning Rate: 0.10000000\n",
      "Iter: 30, Loss: 0.0273, Learning Rate: 0.10000000\n",
      "Iter: 40, Loss: 0.0181, Learning Rate: 0.10000000\n",
      "Iter: 50, Loss: 0.0128, Learning Rate: 0.10000000\n",
      "Iter: 60, Loss: 0.0098, Learning Rate: 0.10000000\n",
      "Iter: 70, Loss: 0.0079, Learning Rate: 0.10000000\n",
      "Iter: 80, Loss: 0.0067, Learning Rate: 0.10000000\n",
      "Iter: 90, Loss: 0.0059, Learning Rate: 0.10000000\n",
      "Iter: 100, Loss: 0.0054, Learning Rate: 0.09600000\n",
      "Iter: 110, Loss: 0.0050, Learning Rate: 0.09600000\n",
      "Iter: 120, Loss: 0.0047, Learning Rate: 0.09600000\n",
      "Iter: 130, Loss: 0.0045, Learning Rate: 0.09600000\n",
      "Iter: 140, Loss: 0.0044, Learning Rate: 0.09600000\n",
      "Iter: 150, Loss: 0.0043, Learning Rate: 0.09600000\n",
      "Iter: 160, Loss: 0.0042, Learning Rate: 0.09600000\n",
      "Iter: 170, Loss: 0.0041, Learning Rate: 0.09600000\n",
      "Iter: 180, Loss: 0.0041, Learning Rate: 0.09600000\n",
      "Iter: 190, Loss: 0.0041, Learning Rate: 0.09600000\n",
      "Iter: 200, Loss: 0.0040, Learning Rate: 0.09216000\n",
      "Iter: 210, Loss: 0.0040, Learning Rate: 0.09216000\n",
      "Iter: 220, Loss: 0.0040, Learning Rate: 0.09216000\n",
      "Iter: 230, Loss: 0.0040, Learning Rate: 0.09216000\n",
      "Iter: 240, Loss: 0.0039, Learning Rate: 0.09216000\n",
      "Iter: 250, Loss: 0.0039, Learning Rate: 0.09216000\n",
      "Iter: 260, Loss: 0.0039, Learning Rate: 0.09216000\n",
      "Iter: 270, Loss: 0.0039, Learning Rate: 0.09216000\n",
      "Iter: 280, Loss: 0.0039, Learning Rate: 0.09216000\n",
      "Iter: 290, Loss: 0.0039, Learning Rate: 0.09216000\n",
      "Iter: 300, Loss: 0.0039, Learning Rate: 0.08847360\n",
      "Iter: 310, Loss: 0.0039, Learning Rate: 0.08847360\n",
      "Iter: 320, Loss: 0.0039, Learning Rate: 0.08847360\n",
      "Iter: 330, Loss: 0.0039, Learning Rate: 0.08847360\n",
      "Iter: 340, Loss: 0.0038, Learning Rate: 0.08847360\n",
      "Iter: 350, Loss: 0.0038, Learning Rate: 0.08847360\n",
      "Iter: 360, Loss: 0.0038, Learning Rate: 0.08847360\n",
      "Iter: 370, Loss: 0.0038, Learning Rate: 0.08847360\n",
      "Iter: 380, Loss: 0.0038, Learning Rate: 0.08847360\n",
      "Iter: 390, Loss: 0.0038, Learning Rate: 0.08847360\n",
      "Iter: 400, Loss: 0.0038, Learning Rate: 0.08493464\n",
      "Iter: 410, Loss: 0.0038, Learning Rate: 0.08493464\n",
      "Iter: 420, Loss: 0.0038, Learning Rate: 0.08493464\n",
      "Iter: 430, Loss: 0.0038, Learning Rate: 0.08493464\n",
      "Iter: 440, Loss: 0.0038, Learning Rate: 0.08493464\n",
      "Iter: 450, Loss: 0.0038, Learning Rate: 0.08493464\n",
      "Iter: 460, Loss: 0.0038, Learning Rate: 0.08493464\n",
      "Iter: 470, Loss: 0.0038, Learning Rate: 0.08493464\n",
      "Iter: 480, Loss: 0.0038, Learning Rate: 0.08493464\n",
      "Iter: 490, Loss: 0.0038, Learning Rate: 0.08493464\n",
      "Iter: 500, Loss: 0.0037, Learning Rate: 0.08153726\n",
      "Iter: 510, Loss: 0.0037, Learning Rate: 0.08153726\n",
      "Iter: 520, Loss: 0.0037, Learning Rate: 0.08153726\n",
      "Iter: 530, Loss: 0.0037, Learning Rate: 0.08153726\n",
      "Iter: 540, Loss: 0.0037, Learning Rate: 0.08153726\n",
      "Iter: 550, Loss: 0.0037, Learning Rate: 0.08153726\n",
      "Iter: 560, Loss: 0.0037, Learning Rate: 0.08153726\n",
      "Iter: 570, Loss: 0.0037, Learning Rate: 0.08153726\n",
      "Iter: 580, Loss: 0.0037, Learning Rate: 0.08153726\n",
      "Iter: 590, Loss: 0.0037, Learning Rate: 0.08153726\n",
      "Iter: 600, Loss: 0.0037, Learning Rate: 0.07827577\n",
      "Iter: 610, Loss: 0.0037, Learning Rate: 0.07827577\n",
      "Iter: 620, Loss: 0.0037, Learning Rate: 0.07827577\n",
      "Iter: 630, Loss: 0.0037, Learning Rate: 0.07827577\n",
      "Iter: 640, Loss: 0.0037, Learning Rate: 0.07827577\n",
      "Iter: 650, Loss: 0.0037, Learning Rate: 0.07827577\n",
      "Iter: 660, Loss: 0.0037, Learning Rate: 0.07827577\n",
      "Iter: 670, Loss: 0.0037, Learning Rate: 0.07827577\n",
      "Iter: 680, Loss: 0.0037, Learning Rate: 0.07827577\n",
      "Iter: 690, Loss: 0.0037, Learning Rate: 0.07827577\n",
      "Iter: 700, Loss: 0.0037, Learning Rate: 0.07514474\n",
      "Iter: 710, Loss: 0.0036, Learning Rate: 0.07514474\n",
      "Iter: 720, Loss: 0.0036, Learning Rate: 0.07514474\n",
      "Iter: 730, Loss: 0.0036, Learning Rate: 0.07514474\n",
      "Iter: 740, Loss: 0.0036, Learning Rate: 0.07514474\n",
      "Iter: 750, Loss: 0.0036, Learning Rate: 0.07514474\n",
      "Iter: 760, Loss: 0.0036, Learning Rate: 0.07514474\n",
      "Iter: 770, Loss: 0.0036, Learning Rate: 0.07514474\n",
      "Iter: 780, Loss: 0.0036, Learning Rate: 0.07514474\n",
      "Iter: 790, Loss: 0.0036, Learning Rate: 0.07514474\n",
      "Iter: 800, Loss: 0.0036, Learning Rate: 0.07213895\n",
      "Iter: 810, Loss: 0.0036, Learning Rate: 0.07213895\n",
      "Iter: 820, Loss: 0.0036, Learning Rate: 0.07213895\n",
      "Iter: 830, Loss: 0.0036, Learning Rate: 0.07213895\n",
      "Iter: 840, Loss: 0.0036, Learning Rate: 0.07213895\n",
      "Iter: 850, Loss: 0.0036, Learning Rate: 0.07213895\n",
      "Iter: 860, Loss: 0.0036, Learning Rate: 0.07213895\n",
      "Iter: 870, Loss: 0.0036, Learning Rate: 0.07213895\n",
      "Iter: 880, Loss: 0.0036, Learning Rate: 0.07213895\n",
      "Iter: 890, Loss: 0.0036, Learning Rate: 0.07213895\n",
      "Iter: 900, Loss: 0.0036, Learning Rate: 0.06925339\n",
      "Iter: 910, Loss: 0.0036, Learning Rate: 0.06925339\n",
      "Iter: 920, Loss: 0.0036, Learning Rate: 0.06925339\n",
      "Iter: 930, Loss: 0.0036, Learning Rate: 0.06925339\n",
      "Iter: 940, Loss: 0.0036, Learning Rate: 0.06925339\n",
      "Iter: 950, Loss: 0.0036, Learning Rate: 0.06925339\n",
      "Iter: 960, Loss: 0.0036, Learning Rate: 0.06925339\n",
      "Iter: 970, Loss: 0.0036, Learning Rate: 0.06925339\n",
      "Iter: 980, Loss: 0.0036, Learning Rate: 0.06925339\n",
      "Iter: 990, Loss: 0.0036, Learning Rate: 0.06925339\n",
      "Iter: 1000, Loss: 0.0035, Learning Rate: 0.06648325\n"
     ]
    }
   ],
   "source": [
    "EPOCHS = 1001\n",
    "\n",
    "for step in range(EPOCHS):\n",
    "    for features, labels  in iter(dataset):\n",
    "        features = tf.cast(features, tf.float32)\n",
    "        labels = tf.cast(labels, tf.float32)\n",
    "        \n",
    "        grads, loss_value = grad(features, labels)\n",
    "        optimizer.apply_gradients(grads_and_vars = zip(grads, variables))\n",
    "        if step % 10 == 0:\n",
    "            print(\"Iter: {}, Loss: {:.4f}, Learning Rate: {:.8f}\".format(step, loss_value, optimizer._decayed_lr(('float32'))))"
   ]
  },
  {
   "cell_type": "code",
   "execution_count": null,
   "metadata": {},
   "outputs": [],
   "source": []
  }
 ],
 "metadata": {
  "kernelspec": {
   "display_name": "Python 3",
   "language": "python",
   "name": "python3"
  },
  "language_info": {
   "codemirror_mode": {
    "name": "ipython",
    "version": 3
   },
   "file_extension": ".py",
   "mimetype": "text/x-python",
   "name": "python",
   "nbconvert_exporter": "python",
   "pygments_lexer": "ipython3",
   "version": "3.7.6"
  }
 },
 "nbformat": 4,
 "nbformat_minor": 2
}
