{
 "cells": [
  {
   "cell_type": "markdown",
   "metadata": {},
   "source": [
    "# import libraries"
   ]
  },
  {
   "cell_type": "code",
   "execution_count": 1,
   "metadata": {
    "scrolled": true
   },
   "outputs": [
    {
     "name": "stdout",
     "output_type": "stream",
     "text": [
      "2.1.0\n"
     ]
    }
   ],
   "source": [
    "import tensorflow as tf\n",
    "\n",
    "import numpy as np\n",
    "import matplotlib.pyplot as plt\n",
    "%matplotlib inline\n",
    "\n",
    "tf.random.set_seed(777) \n",
    "print(tf.__version__)"
   ]
  },
  {
   "cell_type": "markdown",
   "metadata": {},
   "source": [
    "# data settings"
   ]
  },
  {
   "cell_type": "code",
   "execution_count": 2,
   "metadata": {
    "scrolled": false
   },
   "outputs": [
    {
     "data": {
      "image/png": "[encoded data removed]",
      "text/plain": [
       "<Figure size 432x288 with 1 Axes>"
      ]
     },
     "metadata": {
      "needs_background": "light"
     },
     "output_type": "display_data"
    }
   ],
   "source": [
    "x_data = [[0, 0],\n",
    "          [0, 1],\n",
    "          [1, 0],\n",
    "          [1, 1]]\n",
    "y_data = [[0],\n",
    "          [1],\n",
    "          [1],\n",
    "          [0]]\n",
    "\n",
    "plt.scatter(x_data[0][0],x_data[0][1], c = 'red', marker = 'o', label = '0')\n",
    "plt.scatter(x_data[3][0],x_data[3][1], c = 'red', marker = 'o')\n",
    "plt.scatter(x_data[1][0],x_data[1][1], c = 'blue', marker = 'o', label = '1')\n",
    "plt.scatter(x_data[2][0],x_data[2][1], c = 'blue', marker = 'o')\n",
    "\n",
    "plt.xlabel('x1')\n",
    "plt.ylabel('x2')\n",
    "\n",
    "plt.legend(loc = 'upper left', bbox_to_anchor = (1, 1))\n",
    "plt.show()\n",
    "\n",
    "dataset = tf.data.Dataset.from_tensor_slices((x_data, y_data)).batch(len(x_data))"
   ]
  },
  {
   "cell_type": "code",
   "execution_count": 3,
   "metadata": {},
   "outputs": [],
   "source": [
    "def preprocess_data(features, labels):\n",
    "    features = tf.cast(features, tf.float32)\n",
    "    labels = tf.cast(labels, tf.float32)\n",
    "    return features, labels"
   ]
  },
  {
   "cell_type": "markdown",
   "metadata": {},
   "source": [
    "# weight and bias settings"
   ]
  },
  {
   "cell_type": "code",
   "execution_count": 4,
   "metadata": {},
   "outputs": [],
   "source": [
    "W1 = tf.Variable(tf.random.normal((2, 1)), dtype = tf.float32, name = 'weight1')\n",
    "b1 = tf.Variable(tf.random.normal((1, )), dtype = tf.float32, name = 'bias1')\n",
    "\n",
    "W2 = tf.Variable(tf.random.normal((2, 1)), dtype = tf.float32, name = 'weight2')\n",
    "b2 = tf.Variable(tf.random.normal((1, )), dtype = tf.float32, name = 'bias2')\n",
    "\n",
    "W3 = tf.Variable(tf.random.normal((2, 1)), dtype = tf.float32, name = 'weight3')\n",
    "b3 = tf.Variable(tf.random.normal((1, )), dtype = tf.float32, name = 'bias3')\n",
    "\n",
    "variables = [W1, W2, W3, b1, b2, b3]"
   ]
  },
  {
   "cell_type": "markdown",
   "metadata": {},
   "source": [
    "# neural net"
   ]
  },
  {
   "cell_type": "code",
   "execution_count": 5,
   "metadata": {},
   "outputs": [],
   "source": [
    "def nn(features):\n",
    "    layer1 = tf.sigmoid(tf.matmul(features, W1) + b1)\n",
    "    layer2 = tf.sigmoid(tf.matmul(features, W2) + b2)\n",
    "    layer3 = tf.concat([layer1, layer2], -1)\n",
    "    layer3 = tf.reshape(layer3, shape = [-1, 2])\n",
    "    hypothesis = tf.sigmoid(tf.matmul(layer3, W3) + b3)\n",
    "    return hypothesis"
   ]
  },
  {
   "cell_type": "markdown",
   "metadata": {},
   "source": [
    "# cost function"
   ]
  },
  {
   "cell_type": "code",
   "execution_count": 6,
   "metadata": {},
   "outputs": [],
   "source": [
    "def loss_fn(hypothesis, features, labels):\n",
    "    cost = -tf.reduce_mean(labels * tf.math.log(nn(features)) + (1 - labels) * tf.math.log(1 - hypothesis))\n",
    "    return cost"
   ]
  },
  {
   "cell_type": "markdown",
   "metadata": {},
   "source": [
    "# cost minimization"
   ]
  },
  {
   "cell_type": "code",
   "execution_count": 7,
   "metadata": {},
   "outputs": [],
   "source": [
    "optimizer = tf.keras.optimizers.SGD(learning_rate = 0.01)"
   ]
  },
  {
   "cell_type": "code",
   "execution_count": 8,
   "metadata": {},
   "outputs": [],
   "source": [
    "def grad(hypothesis, features, labels):\n",
    "    with tf.GradientTape() as tape:\n",
    "        loss_value = loss_fn(nn(features), features, labels)\n",
    "    return tape.gradient(loss_value, variables)"
   ]
  },
  {
   "cell_type": "markdown",
   "metadata": {},
   "source": [
    "# prediction check"
   ]
  },
  {
   "cell_type": "code",
   "execution_count": 9,
   "metadata": {},
   "outputs": [],
   "source": [
    "def accuracy_fn(hypothesis, labels):\n",
    "    predicted = tf.cast(hypothesis > 0.5, dtype = tf.float32)\n",
    "    accuracy = tf.reduce_mean(tf.cast(tf.equal(predicted, labels), dtype = tf.float32))\n",
    "    return accuracy"
   ]
  },
  {
   "cell_type": "markdown",
   "metadata": {},
   "source": [
    "# train"
   ]
  },
  {
   "cell_type": "code",
   "execution_count": 10,
   "metadata": {},
   "outputs": [
    {
     "name": "stdout",
     "output_type": "stream",
     "text": [
      "iter : 0, loss : 0.8487\n",
      "iter : 5000, loss : 0.6847\n",
      "iter : 10000, loss : 0.6610\n",
      "iter : 15000, loss : 0.6154\n",
      "iter : 20000, loss : 0.5722\n",
      "iter : 25000, loss : 0.5433\n",
      "iter : 30000, loss : 0.5211\n",
      "iter : 35000, loss : 0.4911\n",
      "iter : 40000, loss : 0.4416\n",
      "iter : 45000, loss : 0.3313\n",
      "iter : 50000, loss : 0.2006\n",
      "W1 : [[-2.942175 ]\n",
      " [ 3.8070438]], \n",
      "b1 : [1.1455594]\n",
      "W2 : [[ 5.868383 ]\n",
      " [-6.0805597]], \n",
      "b2 : [3.5659778]\n",
      "W3 : [[-4.200149 ]\n",
      " [-4.7733326]], \n",
      "b3 : [6.379222]\n",
      "Accuracy : 1.0\n"
     ]
    }
   ],
   "source": [
    "EPOCHS = 50001\n",
    "\n",
    "for step in range(EPOCHS):\n",
    "    for features, labels in dataset:\n",
    "        features, labels = preprocess_data(features, labels)\n",
    "        grads = grad(nn(features), features, labels)\n",
    "        optimizer.apply_gradients(grads_and_vars = zip(grads, variables))\n",
    "        if step % 5000 == 0:\n",
    "            print('iter : {}, loss : {:.4f}'.format(step, loss_fn(nn(features), features, labels)))\n",
    "print('W1 : {}, \\nb1 : {}'.format(W1.numpy(), b1.numpy()))\n",
    "print('W2 : {}, \\nb2 : {}'.format(W2.numpy(), b2.numpy()))\n",
    "print('W3 : {}, \\nb3 : {}'.format(W3.numpy(), b3.numpy()))\n",
    "\n",
    "x_data, y_data = preprocess_data(x_data, y_data)\n",
    "print('Accuracy : {}'.format(accuracy_fn(nn(x_data), y_data)))"
   ]
  },
  {
   "cell_type": "code",
   "execution_count": null,
   "metadata": {},
   "outputs": [],
   "source": []
  }
 ],
 "metadata": {
  "kernelspec": {
   "display_name": "Python 3",
   "language": "python",
   "name": "python3"
  },
  "language_info": {
   "codemirror_mode": {
    "name": "ipython",
    "version": 3
   },
   "file_extension": ".py",
   "mimetype": "text/x-python",
   "name": "python",
   "nbconvert_exporter": "python",
   "pygments_lexer": "ipython3",
   "version": "3.7.6"
  }
 },
 "nbformat": 4,
 "nbformat_minor": 4
}
